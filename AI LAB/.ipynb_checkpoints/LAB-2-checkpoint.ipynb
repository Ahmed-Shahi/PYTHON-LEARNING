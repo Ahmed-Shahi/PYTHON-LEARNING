{
 "cells": [
  {
   "cell_type": "code",
   "execution_count": 32,
   "id": "d4781071-0b4e-4d9b-8492-105984c9819f",
   "metadata": {},
   "outputs": [],
   "source": [
    "import numpy as np\n",
    "import pandas as pd\n"
   ]
  },
  {
   "cell_type": "code",
   "execution_count": 3,
   "id": "4d64d91c-cca6-4b4a-b193-328ca425c315",
   "metadata": {},
   "outputs": [
    {
     "name": "stdout",
     "output_type": "stream",
     "text": [
      "Matrix :\n",
      "[[1 2 3]\n",
      " [4 5 6]\n",
      " [7 8 9]]\n"
     ]
    }
   ],
   "source": [
    "data = np.array([[1, 2, 3],\n",
    "                         [4, 5, 6],\n",
    "                         [7, 8, 9]])\n",
    "\n",
    "print(\"Matrix :\")\n",
    "print(data)\n"
   ]
  },
  {
   "cell_type": "code",
   "execution_count": 4,
   "id": "0ff2af33-9d64-4521-8ea0-7c58fbb41981",
   "metadata": {},
   "outputs": [
    {
     "name": "stdout",
     "output_type": "stream",
     "text": [
      "Transpose of Matrix:\n",
      "[[1 4 7]\n",
      " [2 5 8]\n",
      " [3 6 9]]\n"
     ]
    }
   ],
   "source": [
    "tm = np.transpose(data)\n",
    "print(\"Transpose of Matrix:\")\n",
    "print(tm)\n"
   ]
  },
  {
   "cell_type": "code",
   "execution_count": 5,
   "id": "a71ddfbf-c2b1-4fce-afbf-80848203313f",
   "metadata": {},
   "outputs": [
    {
     "name": "stdout",
     "output_type": "stream",
     "text": [
      "Addition of Matrix:\n",
      "[[ 2  4  6]\n",
      " [ 8 10 12]\n",
      " [14 16 18]]\n"
     ]
    }
   ],
   "source": [
    "ma = data + data\n",
    "print(\"Addition of Matrix:\")\n",
    "print(ma)\n"
   ]
  },
  {
   "cell_type": "code",
   "execution_count": 7,
   "id": "f27c3287-8d7d-4505-89e4-54f5869db10d",
   "metadata": {},
   "outputs": [
    {
     "name": "stdout",
     "output_type": "stream",
     "text": [
      "Multiplication Matrix:\n",
      "[[ 1  4  9]\n",
      " [16 25 36]\n",
      " [49 64 81]]\n"
     ]
    }
   ],
   "source": [
    "mm = data * data\n",
    "print(\"Multiplication Matrix:\")\n",
    "print(mm)\n"
   ]
  },
  {
   "cell_type": "code",
   "execution_count": 31,
   "id": "6695d132-3fe7-428e-8189-303fca7f6425",
   "metadata": {},
   "outputs": [
    {
     "name": "stdout",
     "output_type": "stream",
     "text": [
      "[123. 456. 789.]\n"
     ]
    }
   ],
   "source": [
    "#For Text File\n",
    "path = \"C:\\\\Users\\\\mshah\\\\Desktop\\\\AHMED\\\\PYTHON\\\\PYTHON-LEARNING\\\\AI LAB\\\\matrix.txt\"\n",
    "data = np.genfromtxt(path, delimiter=',')\n",
    "print(data)"
   ]
  },
  {
   "cell_type": "code",
   "execution_count": 49,
   "id": "43b4ea6c-4b36-43a4-8bf2-565e4e570a03",
   "metadata": {},
   "outputs": [
    {
     "name": "stdout",
     "output_type": "stream",
     "text": [
      "   C1  C2  C3  C4  C5  C6\n",
      "0   1   2   3   4   5   6\n",
      "1   4   5   6   7   8   9\n",
      "2   7   8   9   1   2   3\n"
     ]
    }
   ],
   "source": [
    "#For Excel File\n",
    "#pip install openpyxl\n",
    "#it show data into pandas dataframes\n",
    "path = \"C:\\\\Users\\\\mshah\\\\Desktop\\\\AHMED\\\\PYTHON\\\\PYTHON-LEARNING\\\\AI LAB\\\\matrix.xlsx\"\n",
    "data = pd.read_excel(path)\n",
    "print(data)\n"
   ]
  },
  {
   "cell_type": "code",
   "execution_count": 53,
   "id": "51f18a3f-e46e-4308-9823-6284e3bfc690",
   "metadata": {},
   "outputs": [
    {
     "name": "stdout",
     "output_type": "stream",
     "text": [
      "    0  1  2\n",
      "C1  1  4  7\n",
      "C2  2  5  8\n",
      "C3  3  6  9\n",
      "C4  4  7  1\n",
      "C5  5  8  2\n",
      "C6  6  9  3\n"
     ]
    }
   ],
   "source": [
    "td = np.transpose(data)\n",
    "print(td)\n"
   ]
  },
  {
   "cell_type": "code",
   "execution_count": 56,
   "id": "94e53850-4f05-457e-b2d7-4023e17b97d2",
   "metadata": {},
   "outputs": [
    {
     "name": "stdout",
     "output_type": "stream",
     "text": [
      "    0  1  2\n",
      "C1  1  4  7\n",
      "C2  2  5  8\n",
      "C3  3  6  9\n",
      "C4  4  7  1\n",
      "C5  5  8  2\n",
      "              0         1         2\n",
      "count  6.000000  6.000000  6.000000\n",
      "mean   3.500000  6.500000  5.000000\n",
      "std    1.870829  1.870829  3.405877\n",
      "min    1.000000  4.000000  1.000000\n",
      "25%    2.250000  5.250000  2.250000\n",
      "50%    3.500000  6.500000  5.000000\n",
      "75%    4.750000  7.750000  7.750000\n",
      "max    6.000000  9.000000  9.000000\n"
     ]
    }
   ],
   "source": [
    "#show top 5 rows\n",
    "print(td.head())\n",
    "print(td.describe())\n"
   ]
  },
  {
   "cell_type": "code",
   "execution_count": null,
   "id": "009f6697-24b7-4ede-ba31-d9249314df2a",
   "metadata": {},
   "outputs": [],
   "source": []
  }
 ],
 "metadata": {
  "kernelspec": {
   "display_name": "Python 3 (ipykernel)",
   "language": "python",
   "name": "python3"
  },
  "language_info": {
   "codemirror_mode": {
    "name": "ipython",
    "version": 3
   },
   "file_extension": ".py",
   "mimetype": "text/x-python",
   "name": "python",
   "nbconvert_exporter": "python",
   "pygments_lexer": "ipython3",
   "version": "3.12.6"
  }
 },
 "nbformat": 4,
 "nbformat_minor": 5
}
