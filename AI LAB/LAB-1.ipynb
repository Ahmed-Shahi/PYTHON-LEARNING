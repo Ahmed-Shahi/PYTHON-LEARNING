{
 "cells": [
  {
   "cell_type": "code",
   "execution_count": 9,
   "id": "18975409-eb21-423c-abfb-93b357ab4d10",
   "metadata": {},
   "outputs": [],
   "source": [
    "import numpy as np\n",
    "import pandas as pd"
   ]
  },
  {
   "cell_type": "code",
   "execution_count": 2,
   "id": "1b93d4b4-651f-4a31-962b-08b4a35cb091",
   "metadata": {},
   "outputs": [
    {
     "name": "stdout",
     "output_type": "stream",
     "text": [
      "[[12 23]\n",
      " [45 67]]\n"
     ]
    }
   ],
   "source": [
    "Matrix = np.matrix([[12,23],\n",
    "                   [45,67]])\n",
    "print(Matrix)"
   ]
  },
  {
   "cell_type": "code",
   "execution_count": 7,
   "id": "76fd2408-d9b1-4078-8641-4c2e0be35000",
   "metadata": {},
   "outputs": [
    {
     "name": "stdout",
     "output_type": "stream",
     "text": [
      "[[127 197]\n",
      " [380 604]]\n"
     ]
    }
   ],
   "source": [
    "m1 = np.matrix([[12,23],\n",
    "                [45,67]])\n",
    "m2 = np.matrix([[1,3],\n",
    "                [5,7]])\n",
    "dot = np.dot(m1,m2)\n",
    "print(dot)"
   ]
  },
  {
   "cell_type": "code",
   "execution_count": 10,
   "id": "0bb321c5-6ccc-4562-931a-9254a80c4f8a",
   "metadata": {},
   "outputs": [
    {
     "name": "stdout",
     "output_type": "stream",
     "text": [
      "0    13\n",
      "1    25\n",
      "2    19\n",
      "dtype: int64\n"
     ]
    }
   ],
   "source": [
    "ages = np.array([13,25,19])\n",
    "series1 = pd.Series(ages)\n",
    "print(series1)"
   ]
  },
  {
   "cell_type": "code",
   "execution_count": 20,
   "id": "746d9dc3-a1de-4746-a5d6-0daa6c0aee22",
   "metadata": {},
   "outputs": [
    {
     "name": "stdout",
     "output_type": "stream",
     "text": [
      "Ahmed    13\n",
      "Ali      25\n",
      "Asad     19\n",
      "dtype: int64\n"
     ]
    }
   ],
   "source": [
    "ages = np.array([13,25,19])\n",
    "series1 = pd.Series(ages,index=['Ahmed', 'Ali', 'Asad'])\n",
    "print(series1)"
   ]
  },
  {
   "cell_type": "code",
   "execution_count": null,
   "id": "7a23ca8e-804e-4664-b130-4a7e89ec2efa",
   "metadata": {},
   "outputs": [],
   "source": [
    "dataf = pd.DataFrame([\n",
    "['Ahmed','XYZ',19],\n",
    "['Ali', 'DEF',28],\n",
    "['Asad', '789 Broadway',51]\n",
    "],\n",
    "columns=['name','address','age'])"
   ]
  }
 ],
 "metadata": {
  "kernelspec": {
   "display_name": "Python 3 (ipykernel)",
   "language": "python",
   "name": "python3"
  },
  "language_info": {
   "codemirror_mode": {
    "name": "ipython",
    "version": 3
   },
   "file_extension": ".py",
   "mimetype": "text/x-python",
   "name": "python",
   "nbconvert_exporter": "python",
   "pygments_lexer": "ipython3",
   "version": "3.12.6"
  }
 },
 "nbformat": 4,
 "nbformat_minor": 5
}
