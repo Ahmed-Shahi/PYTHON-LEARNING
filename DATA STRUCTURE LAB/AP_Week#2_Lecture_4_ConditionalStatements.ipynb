{
 "cells": [
  {
   "cell_type": "markdown",
   "id": "8ba6c92a",
   "metadata": {
    "slideshow": {
     "slide_type": "slide"
    }
   },
   "source": [
    "# Conditional Statements\n",
    "\n",
    "In Python, similar to other languages, we have `if` statement to define conditions and make the program take different paths based on certain conditions.\n",
    "\n",
    "Furthermore, we can add multiple paths by using `elif` (else if) or `else` statements.\n",
    "\n",
    "Following is the syntax:\n",
    "\n",
    "    if case1:\n",
    "        perform action1\n",
    "    elif case2:\n",
    "        perform action2\n",
    "    else: \n",
    "        perform action3\n",
    "   \n",
    " You can have as many `elif` statements as you need or you can only have one `if` statement and no `else` or `elif` statements."
   ]
  },
  {
   "cell_type": "code",
   "execution_count": 6,
   "id": "0e055f58",
   "metadata": {
    "slideshow": {
     "slide_type": "fragment"
    }
   },
   "outputs": [
    {
     "name": "stdout",
     "output_type": "stream",
     "text": [
      "The\n"
     ]
    }
   ],
   "source": [
    "if False:\n",
    "    print(\"The statement is True.\")\n",
    "print(\"The\")"
   ]
  },
  {
   "cell_type": "markdown",
   "id": "8135cb53",
   "metadata": {
    "slideshow": {
     "slide_type": "fragment"
    }
   },
   "source": [
    "The indentation (`print` statement has white space before it) really matters here. It tells the program that whatever is indented is part of the `if` body."
   ]
  },
  {
   "cell_type": "code",
   "execution_count": 8,
   "id": "7d5da396",
   "metadata": {
    "slideshow": {
     "slide_type": "fragment"
    }
   },
   "outputs": [
    {
     "name": "stdout",
     "output_type": "stream",
     "text": [
      "The statement is inside 'if' body.\n",
      "This statment is outside 'if' body.\n"
     ]
    }
   ],
   "source": [
    "if True:\n",
    "    print(f\"The statement is inside {'if'!r} body.\")\n",
    "print(f\"This statment is outside {'if'!r} body.\")"
   ]
  },
  {
   "cell_type": "markdown",
   "id": "c6de26ba",
   "metadata": {
    "slideshow": {
     "slide_type": "fragment"
    }
   },
   "source": [
    "In the above example, the second statement will be executed no matter what the result of the `if` condition.\n",
    "\n",
    "Let's look at example with else"
   ]
  },
  {
   "cell_type": "code",
   "execution_count": 10,
   "id": "4535b8c5",
   "metadata": {
    "slideshow": {
     "slide_type": "fragment"
    }
   },
   "outputs": [
    {
     "name": "stdout",
     "output_type": "stream",
     "text": [
      "The statement is inside 'if' body.\n",
      "This statment is outside 'if' and 'else' body.\n"
     ]
    }
   ],
   "source": [
    "if True:\n",
    "    print(f\"The statement is inside {'if'!r} body.\")\n",
    "else:\n",
    "    print(f\"This statment is inside {'else'!r} body.\")\n",
    "print(f\"This statment is outside {'if'!r} and {'else' !r} body.\")\n"
   ]
  },
  {
   "cell_type": "markdown",
   "id": "037ed422",
   "metadata": {
    "slideshow": {
     "slide_type": "slide"
    }
   },
   "source": [
    "#### Side Note: \n",
    "BTW, since I am using double quotes in all my above examples, the print function does not need formatting to put the single quotes around `if` or `else`. Simply following will suffice."
   ]
  },
  {
   "cell_type": "code",
   "execution_count": 11,
   "id": "3f346a54",
   "metadata": {
    "slideshow": {
     "slide_type": "fragment"
    }
   },
   "outputs": [
    {
     "name": "stdout",
     "output_type": "stream",
     "text": [
      "This statment is outside 'if' body.\n"
     ]
    }
   ],
   "source": [
    "print(\"This statment is outside 'if' body.\")"
   ]
  },
  {
   "cell_type": "markdown",
   "id": "a046e31e",
   "metadata": {
    "slideshow": {
     "slide_type": "slide"
    }
   },
   "source": [
    "#### More Examples\n",
    "Lets have multiple statements in `if` and `else` bodies."
   ]
  },
  {
   "cell_type": "code",
   "execution_count": 12,
   "id": "1053a301",
   "metadata": {
    "slideshow": {
     "slide_type": "fragment"
    }
   },
   "outputs": [
    {
     "name": "stdout",
     "output_type": "stream",
     "text": [
      "This statement is inside 'if' body.\n",
      "This statement is also inside 'if' body.\n",
      "This statment is still outside 'if' and 'else' body.\n"
     ]
    }
   ],
   "source": [
    "if True:\n",
    "    print(\"This statement is inside 'if' body.\")\n",
    "    print(\"This statement is also inside 'if' body.\")\n",
    "else:\n",
    "    print(\"This statment is inside 'else' body.\")\n",
    "    print(\"This statment is also inside 'else' body.\")\n",
    "print(f\"This statment is still outside 'if' and 'else' body.\")\n"
   ]
  },
  {
   "cell_type": "markdown",
   "id": "732e5842",
   "metadata": {
    "slideshow": {
     "slide_type": "fragment"
    }
   },
   "source": [
    "As long as the statements are indented, they all are inside the `if` or `else` body."
   ]
  },
  {
   "cell_type": "markdown",
   "id": "9f772b76",
   "metadata": {
    "slideshow": {
     "slide_type": "slide"
    }
   },
   "source": [
    "Lets add some variables and comparison operators we learned last time."
   ]
  },
  {
   "cell_type": "code",
   "execution_count": 13,
   "id": "6af9be49",
   "metadata": {
    "slideshow": {
     "slide_type": "fragment"
    }
   },
   "outputs": [
    {
     "name": "stdout",
     "output_type": "stream",
     "text": [
      "The condition is False\n"
     ]
    }
   ],
   "source": [
    "a = 10\n",
    "b = 15\n",
    "c = 20\n",
    "\n",
    "if a > b > c:\n",
    "    print('The condition is True')\n",
    "else:\n",
    "    print('The condition is False')"
   ]
  },
  {
   "cell_type": "markdown",
   "id": "16ab047b",
   "metadata": {},
   "source": [
    "#### `elif` Statements\n"
   ]
  },
  {
   "cell_type": "code",
   "execution_count": 14,
   "id": "51749c6d",
   "metadata": {},
   "outputs": [
    {
     "name": "stdout",
     "output_type": "stream",
     "text": [
      "Both conditions are False\n"
     ]
    }
   ],
   "source": [
    "a = 10\n",
    "b = 15\n",
    "c = 20\n",
    "\n",
    "if a < b > c:\n",
    "    print('The first condition is True')\n",
    "elif a> b> c:\n",
    "    print('The second condition is True')\n",
    "else: \n",
    "    print('Both conditions are False')"
   ]
  },
  {
   "cell_type": "markdown",
   "id": "1ba27373",
   "metadata": {},
   "source": [
    "#### Nested if\n",
    "You can have multiple if statements nested in each other.\n"
   ]
  },
  {
   "cell_type": "code",
   "execution_count": 15,
   "id": "90950755",
   "metadata": {},
   "outputs": [
    {
     "name": "stdout",
     "output_type": "stream",
     "text": [
      "The first condition is True\n",
      "The second condition is False\n"
     ]
    }
   ],
   "source": [
    "a=20\n",
    "b=15\n",
    "c=10\n",
    "\n",
    "if a > b > c:\n",
    "    print('The first condition is True')\n",
    "    if a< b> c:\n",
    "        print('The second condition is True')\n",
    "    else:\n",
    "        print('The second condition is False')\n",
    "else: \n",
    "    print('First condition is False')"
   ]
  },
  {
   "cell_type": "markdown",
   "id": "274e20db",
   "metadata": {},
   "source": [
    "One example with Strings"
   ]
  },
  {
   "cell_type": "code",
   "execution_count": 17,
   "id": "3c516bdb",
   "metadata": {},
   "outputs": [
    {
     "name": "stdout",
     "output_type": "stream",
     "text": [
      "I am not sure you are in the right place\n"
     ]
    }
   ],
   "source": [
    "Course_name = 'applied Programming'\n",
    "\n",
    "if Course_name=='Applied Programming':\n",
    "    print(\"Welcome to Applied Programming.\")\n",
    "elif Course_name=='Automata Theory':\n",
    "    print(\"Welcome to Automata Theory.\")\n",
    "elif Course_name !='Applied Programming' or Course_name!='Automata Theory':\n",
    "#elif !(Course_name =='Applied Programming' and Course_name=='Automata Theory'):\n",
    "    print(\"I am not sure you are in the right place\")"
   ]
  }
 ],
 "metadata": {
  "celltoolbar": "Slideshow",
  "kernelspec": {
   "display_name": "Python 3 (ipykernel)",
   "language": "python",
   "name": "python3"
  },
  "language_info": {
   "codemirror_mode": {
    "name": "ipython",
    "version": 3
   },
   "file_extension": ".py",
   "mimetype": "text/x-python",
   "name": "python",
   "nbconvert_exporter": "python",
   "pygments_lexer": "ipython3",
   "version": "3.9.7"
  },
  "latex_envs": {
   "LaTeX_envs_menu_present": true,
   "autoclose": false,
   "autocomplete": true,
   "bibliofile": "biblio.bib",
   "cite_by": "apalike",
   "current_citInitial": 1,
   "eqLabelWithNumbers": true,
   "eqNumInitial": 1,
   "hotkeys": {
    "equation": "Ctrl-E",
    "itemize": "Ctrl-I"
   },
   "labels_anchors": false,
   "latex_user_defs": false,
   "report_style_numbering": false,
   "user_envs_cfg": false
  },
  "toc": {
   "base_numbering": 1,
   "nav_menu": {},
   "number_sections": false,
   "sideBar": true,
   "skip_h1_title": false,
   "title_cell": "Table of Contents",
   "title_sidebar": "Contents",
   "toc_cell": false,
   "toc_position": {},
   "toc_section_display": true,
   "toc_window_display": false
  }
 },
 "nbformat": 4,
 "nbformat_minor": 5
}
