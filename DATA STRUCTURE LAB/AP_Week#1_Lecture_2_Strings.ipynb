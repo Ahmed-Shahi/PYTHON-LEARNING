{
 "cells": [
  {
   "cell_type": "markdown",
   "id": "3744f75c",
   "metadata": {
    "slideshow": {
     "slide_type": "slide"
    }
   },
   "source": [
    "# Strings"
   ]
  },
  {
   "cell_type": "markdown",
   "id": "1cccd083",
   "metadata": {
    "slideshow": {
     "slide_type": "fragment"
    }
   },
   "source": [
    "One of the most important type used is Strings. Python stores strings as as a *sequence* of characters. This means you can use indexing to access any particular character in a string (as in 5th character).\n",
    "\n",
    "For this lecture, we are going to go through the following operations regarding Strings.\n",
    "\n",
    "1. Declare Strings\n",
    "2. Print Strings\n",
    "3. Indexing and Slicing\n",
    "4. Common Methods of Strings\n",
    "5. Print Formatting"
   ]
  },
  {
   "cell_type": "markdown",
   "id": "6b314c91",
   "metadata": {
    "slideshow": {
     "slide_type": "slide"
    }
   },
   "source": [
    "## Declare String\n",
    "\n",
    "In Python, you can declare String either using single or double quotes.\n",
    "\n",
    "We discussed previously, when double quote is required."
   ]
  },
  {
   "cell_type": "code",
   "execution_count": 21,
   "id": "e3fd774e",
   "metadata": {
    "slideshow": {
     "slide_type": "fragment"
    }
   },
   "outputs": [
    {
     "data": {
      "text/plain": [
       "'hello'"
      ]
     },
     "execution_count": 21,
     "metadata": {},
     "output_type": "execute_result"
    }
   ],
   "source": [
    "#Constant String\n",
    "'hello'"
   ]
  },
  {
   "cell_type": "code",
   "execution_count": 41,
   "id": "4b1eb78d",
   "metadata": {
    "slideshow": {
     "slide_type": "fragment"
    }
   },
   "outputs": [],
   "source": [
    "#Using a Variable\n",
    "s = 'Hello World'"
   ]
  },
  {
   "cell_type": "markdown",
   "id": "ce75c598",
   "metadata": {
    "slideshow": {
     "slide_type": "slide"
    }
   },
   "source": [
    "Assignment statement does not return back anything"
   ]
  },
  {
   "cell_type": "markdown",
   "id": "adb5a454",
   "metadata": {
    "slideshow": {
     "slide_type": "fragment"
    }
   },
   "source": [
    "If you want to print the value"
   ]
  },
  {
   "cell_type": "markdown",
   "id": "d41cd3d6",
   "metadata": {
    "slideshow": {
     "slide_type": "fragment"
    }
   },
   "source": [
    "Either just write the name of the variable"
   ]
  },
  {
   "cell_type": "code",
   "execution_count": 23,
   "id": "4bb818da",
   "metadata": {
    "slideshow": {
     "slide_type": "fragment"
    }
   },
   "outputs": [
    {
     "data": {
      "text/plain": [
       "'Hello World'"
      ]
     },
     "execution_count": 23,
     "metadata": {},
     "output_type": "execute_result"
    }
   ],
   "source": [
    "\n",
    "s"
   ]
  },
  {
   "cell_type": "code",
   "execution_count": 24,
   "id": "e40e40d3",
   "metadata": {
    "slideshow": {
     "slide_type": "fragment"
    }
   },
   "outputs": [
    {
     "name": "stdout",
     "output_type": "stream",
     "text": [
      "Hello World\n"
     ]
    }
   ],
   "source": [
    "# or use the print statement\n",
    "print(s)"
   ]
  },
  {
   "cell_type": "code",
   "execution_count": 25,
   "id": "2c1868d1",
   "metadata": {
    "slideshow": {
     "slide_type": "fragment"
    }
   },
   "outputs": [],
   "source": [
    "# Using double quotes\n",
    "s=\"Hello World\""
   ]
  },
  {
   "cell_type": "code",
   "execution_count": 26,
   "id": "3325ecc9",
   "metadata": {
    "slideshow": {
     "slide_type": "fragment"
    }
   },
   "outputs": [
    {
     "data": {
      "text/plain": [
       "\"That's amazing\""
      ]
     },
     "execution_count": 26,
     "metadata": {},
     "output_type": "execute_result"
    }
   ],
   "source": [
    "#where double quote is necessary\n",
    "\"That's amazing\" "
   ]
  },
  {
   "cell_type": "markdown",
   "id": "7c6ced2b",
   "metadata": {
    "slideshow": {
     "slide_type": "fragment"
    }
   },
   "source": [
    "Each call of print will create a new line (sort of println in Java)"
   ]
  },
  {
   "cell_type": "code",
   "execution_count": 42,
   "id": "480c2356",
   "metadata": {
    "slideshow": {
     "slide_type": "fragment"
    }
   },
   "outputs": [
    {
     "name": "stdout",
     "output_type": "stream",
     "text": [
      "Hello\n",
      "World\n"
     ]
    }
   ],
   "source": [
    "print(\"Hello\")\n",
    "print(\"World\")"
   ]
  },
  {
   "cell_type": "markdown",
   "id": "046ba780",
   "metadata": {
    "slideshow": {
     "slide_type": "fragment"
    }
   },
   "source": [
    "Or you can use special characters inside a String for new line (\\n) or tabs (\\t)\n"
   ]
  },
  {
   "cell_type": "code",
   "execution_count": 43,
   "id": "7c063bab",
   "metadata": {
    "slideshow": {
     "slide_type": "fragment"
    }
   },
   "outputs": [
    {
     "name": "stdout",
     "output_type": "stream",
     "text": [
      "Hello \n",
      " World\n",
      "Hello \t World\n"
     ]
    }
   ],
   "source": [
    "print('Hello \\n World') # new line\n",
    "print('Hello \\t World') # tab between words\n"
   ]
  },
  {
   "cell_type": "markdown",
   "id": "3b77658f",
   "metadata": {
    "slideshow": {
     "slide_type": "slide"
    }
   },
   "source": [
    "## Indexing & Slicing\n",
    "As mentioned earlier, Strings are stored as sequence of characters. This means we can access individual characters within a String or even subString.\n",
    "\n",
    "Indexing is when we can access individual character at a particular index. \n",
    "For example, "
   ]
  },
  {
   "cell_type": "code",
   "execution_count": 44,
   "id": "2479d723",
   "metadata": {
    "slideshow": {
     "slide_type": "fragment"
    }
   },
   "outputs": [
    {
     "data": {
      "text/plain": [
       "'H'"
      ]
     },
     "execution_count": 44,
     "metadata": {},
     "output_type": "execute_result"
    }
   ],
   "source": [
    "s= \"Hello World\"\n",
    "s[0]"
   ]
  },
  {
   "cell_type": "markdown",
   "id": "8456392b",
   "metadata": {
    "slideshow": {
     "slide_type": "fragment"
    }
   },
   "source": [
    "This gave us the first character of the String. Yes, in Python too, like other languages, indexing starts at 0.\n",
    "\n",
    "Lets get the last one."
   ]
  },
  {
   "cell_type": "code",
   "execution_count": 46,
   "id": "001094f9",
   "metadata": {
    "slideshow": {
     "slide_type": "fragment"
    }
   },
   "outputs": [
    {
     "data": {
      "text/plain": [
       "'d'"
      ]
     },
     "execution_count": 46,
     "metadata": {},
     "output_type": "execute_result"
    }
   ],
   "source": [
    "s[-1]"
   ]
  },
  {
   "cell_type": "markdown",
   "id": "b6a2875c",
   "metadata": {
    "slideshow": {
     "slide_type": "fragment"
    }
   },
   "source": [
    "In Python, you can use negative indices, -1 means the last index. -2, the second last and so on.\n",
    "\n",
    "No need to know the length of the whole String. (Although, we have a function that can give us the length. More on that later.)"
   ]
  },
  {
   "cell_type": "markdown",
   "id": "d9618f2f",
   "metadata": {
    "slideshow": {
     "slide_type": "slide"
    }
   },
   "source": [
    "### Slicing\n",
    "Slicing is when we want to access a substring, not just one character. \n",
    "\n",
    "For example, we want to get all the characters after first.\n"
   ]
  },
  {
   "cell_type": "code",
   "execution_count": 47,
   "id": "5a63d28a",
   "metadata": {
    "slideshow": {
     "slide_type": "fragment"
    }
   },
   "outputs": [
    {
     "data": {
      "text/plain": [
       "'ello World'"
      ]
     },
     "execution_count": 47,
     "metadata": {},
     "output_type": "execute_result"
    }
   ],
   "source": [
    "s[1:]"
   ]
  },
  {
   "cell_type": "markdown",
   "id": "9ba88095",
   "metadata": {
    "slideshow": {
     "slide_type": "fragment"
    }
   },
   "source": [
    "Or only the first three characters (until index 2)"
   ]
  },
  {
   "cell_type": "code",
   "execution_count": 48,
   "id": "6036bf42",
   "metadata": {
    "slideshow": {
     "slide_type": "fragment"
    }
   },
   "outputs": [
    {
     "data": {
      "text/plain": [
       "'Hel'"
      ]
     },
     "execution_count": 48,
     "metadata": {},
     "output_type": "execute_result"
    }
   ],
   "source": [
    "s[:3] #excludes the character at index 3."
   ]
  },
  {
   "cell_type": "markdown",
   "id": "43529397",
   "metadata": {
    "slideshow": {
     "slide_type": "fragment"
    }
   },
   "source": [
    "Or, the characters between index 2 and 4 (including 4)"
   ]
  },
  {
   "cell_type": "code",
   "execution_count": 49,
   "id": "81b033b1",
   "metadata": {
    "slideshow": {
     "slide_type": "fragment"
    }
   },
   "outputs": [
    {
     "data": {
      "text/plain": [
       "'llo'"
      ]
     },
     "execution_count": 49,
     "metadata": {},
     "output_type": "execute_result"
    }
   ],
   "source": [
    "s[2:5] # excludes the character at 5th index"
   ]
  },
  {
   "cell_type": "markdown",
   "id": "506660ff",
   "metadata": {
    "slideshow": {
     "slide_type": "slide"
    }
   },
   "source": [
    "If we want to access all characters\n"
   ]
  },
  {
   "cell_type": "code",
   "execution_count": 50,
   "id": "5b09bb11",
   "metadata": {
    "slideshow": {
     "slide_type": "fragment"
    }
   },
   "outputs": [
    {
     "data": {
      "text/plain": [
       "'Hello World'"
      ]
     },
     "execution_count": 50,
     "metadata": {},
     "output_type": "execute_result"
    }
   ],
   "source": [
    "s[:]\n"
   ]
  },
  {
   "cell_type": "code",
   "execution_count": 51,
   "id": "a9e3b359",
   "metadata": {
    "slideshow": {
     "slide_type": "fragment"
    }
   },
   "outputs": [
    {
     "data": {
      "text/plain": [
       "'Hello World'"
      ]
     },
     "execution_count": 51,
     "metadata": {},
     "output_type": "execute_result"
    }
   ],
   "source": [
    "#or simply \n",
    "s"
   ]
  },
  {
   "cell_type": "markdown",
   "id": "f1f0cfdd",
   "metadata": {
    "slideshow": {
     "slide_type": "slide"
    }
   },
   "source": [
    "Slicing can also use negative indexing.\n",
    "\n",
    "Lets access all but the last 2 characters. "
   ]
  },
  {
   "cell_type": "code",
   "execution_count": 36,
   "id": "a81682f9",
   "metadata": {
    "slideshow": {
     "slide_type": "fragment"
    }
   },
   "outputs": [
    {
     "data": {
      "text/plain": [
       "'Hello Wor'"
      ]
     },
     "execution_count": 36,
     "metadata": {},
     "output_type": "execute_result"
    }
   ],
   "source": [
    "s[:-2]"
   ]
  },
  {
   "cell_type": "code",
   "execution_count": 37,
   "id": "8f1aa695",
   "metadata": {
    "slideshow": {
     "slide_type": "fragment"
    }
   },
   "outputs": [
    {
     "data": {
      "text/plain": [
       "'Hello '"
      ]
     },
     "execution_count": 37,
     "metadata": {},
     "output_type": "execute_result"
    }
   ],
   "source": [
    "# or all but the last 5\n",
    "s[:-5]"
   ]
  },
  {
   "cell_type": "markdown",
   "id": "966a3221",
   "metadata": {
    "slideshow": {
     "slide_type": "slide"
    }
   },
   "source": [
    "You can also change the steps size. So far what we saw is that it skips few characters but rest are accessed in a sequence. \n",
    "\n",
    "What if we want to access every 2nd character."
   ]
  },
  {
   "cell_type": "code",
   "execution_count": 52,
   "id": "f0a487dd",
   "metadata": {
    "slideshow": {
     "slide_type": "fragment"
    }
   },
   "outputs": [
    {
     "data": {
      "text/plain": [
       "'HloWrd'"
      ]
     },
     "execution_count": 52,
     "metadata": {},
     "output_type": "execute_result"
    }
   ],
   "source": [
    "s[::2]"
   ]
  },
  {
   "cell_type": "markdown",
   "id": "6987fac7",
   "metadata": {
    "slideshow": {
     "slide_type": "fragment"
    }
   },
   "source": [
    "What do you happens if we do this."
   ]
  },
  {
   "cell_type": "code",
   "execution_count": 39,
   "id": "ce165e91",
   "metadata": {
    "slideshow": {
     "slide_type": "fragment"
    }
   },
   "outputs": [
    {
     "data": {
      "text/plain": [
       "'dlroW olleH'"
      ]
     },
     "execution_count": 39,
     "metadata": {},
     "output_type": "execute_result"
    }
   ],
   "source": [
    "s[::-1]"
   ]
  },
  {
   "cell_type": "markdown",
   "id": "cd0edec1",
   "metadata": {
    "slideshow": {
     "slide_type": "slide"
    }
   },
   "source": [
    "### Immutability Property \n",
    "\n",
    "We can access these individual indices (or substrings), however we cannot simply reassign them. This is due to *immutability* property, that is, once a string is created, the individual characters within cannot be changed. "
   ]
  },
  {
   "cell_type": "code",
   "execution_count": 53,
   "id": "ecaaaa57",
   "metadata": {
    "slideshow": {
     "slide_type": "fragment"
    }
   },
   "outputs": [
    {
     "ename": "TypeError",
     "evalue": "'str' object does not support item assignment",
     "output_type": "error",
     "traceback": [
      "\u001b[1;31m---------------------------------------------------------------------------\u001b[0m",
      "\u001b[1;31mTypeError\u001b[0m                                 Traceback (most recent call last)",
      "\u001b[1;32mC:\\Users\\ABDUL~1.KAR\\AppData\\Local\\Temp/ipykernel_15156/1938940602.py\u001b[0m in \u001b[0;36m<module>\u001b[1;34m\u001b[0m\n\u001b[0;32m      1\u001b[0m \u001b[1;31m# So this is not allowed\u001b[0m\u001b[1;33m\u001b[0m\u001b[1;33m\u001b[0m\u001b[0m\n\u001b[1;32m----> 2\u001b[1;33m \u001b[0ms\u001b[0m\u001b[1;33m[\u001b[0m\u001b[1;36m0\u001b[0m\u001b[1;33m]\u001b[0m\u001b[1;33m=\u001b[0m \u001b[1;34m'h'\u001b[0m\u001b[1;33m\u001b[0m\u001b[1;33m\u001b[0m\u001b[0m\n\u001b[0m",
      "\u001b[1;31mTypeError\u001b[0m: 'str' object does not support item assignment"
     ]
    }
   ],
   "source": [
    "# So this is not allowed\n",
    "s[0]= 'h'"
   ]
  },
  {
   "cell_type": "markdown",
   "id": "ef1cbf46",
   "metadata": {
    "slideshow": {
     "slide_type": "slide"
    }
   },
   "source": [
    "We can however append at the end of the string. The correct term here is *concatenate*.\n"
   ]
  },
  {
   "cell_type": "code",
   "execution_count": 54,
   "id": "126b14b9",
   "metadata": {
    "slideshow": {
     "slide_type": "fragment"
    }
   },
   "outputs": [
    {
     "data": {
      "text/plain": [
       "'Hello World. Welcome to AP class'"
      ]
     },
     "execution_count": 54,
     "metadata": {},
     "output_type": "execute_result"
    }
   ],
   "source": [
    "s+'. Welcome to AP class'"
   ]
  },
  {
   "cell_type": "markdown",
   "id": "acbe8a23",
   "metadata": {
    "slideshow": {
     "slide_type": "fragment"
    }
   },
   "source": [
    "However, until we reassign this to s, it will not store this new string"
   ]
  },
  {
   "cell_type": "code",
   "execution_count": 55,
   "id": "a2756368",
   "metadata": {
    "slideshow": {
     "slide_type": "fragment"
    }
   },
   "outputs": [
    {
     "data": {
      "text/plain": [
       "'Hello World'"
      ]
     },
     "execution_count": 55,
     "metadata": {},
     "output_type": "execute_result"
    }
   ],
   "source": [
    "s"
   ]
  },
  {
   "cell_type": "code",
   "execution_count": 56,
   "id": "753ca8f8",
   "metadata": {
    "slideshow": {
     "slide_type": "fragment"
    }
   },
   "outputs": [],
   "source": [
    "# the correct way\n",
    "s=s+'. Welcome to AP class'"
   ]
  },
  {
   "cell_type": "code",
   "execution_count": 57,
   "id": "97f6ab9a",
   "metadata": {
    "slideshow": {
     "slide_type": "fragment"
    }
   },
   "outputs": [
    {
     "data": {
      "text/plain": [
       "'Hello World. Welcome to AP class'"
      ]
     },
     "execution_count": 57,
     "metadata": {},
     "output_type": "execute_result"
    }
   ],
   "source": [
    "# now it reassigned a new String to s\n",
    "s"
   ]
  },
  {
   "cell_type": "markdown",
   "id": "60866fa0",
   "metadata": {
    "slideshow": {
     "slide_type": "slide"
    }
   },
   "source": [
    "One basic functionality that you may need for any sequence is the len() function. This gives you the number of elements in a sequence."
   ]
  },
  {
   "cell_type": "code",
   "execution_count": 58,
   "id": "dcece2e9",
   "metadata": {
    "slideshow": {
     "slide_type": "fragment"
    }
   },
   "outputs": [
    {
     "data": {
      "text/plain": [
       "32"
      ]
     },
     "execution_count": 58,
     "metadata": {},
     "output_type": "execute_result"
    }
   ],
   "source": [
    "len(s)"
   ]
  },
  {
   "cell_type": "markdown",
   "id": "e81108b5",
   "metadata": {
    "slideshow": {
     "slide_type": "slide"
    }
   },
   "source": [
    "## Common Methods of Strings\n",
    "\n",
    "Python has some common (built-in) methods for Strings. These can be used to manipulate String.\n",
    "\n",
    "Typical way to call these methods is by using the *dot operator* after the variable name (assuming it refers to a String).\n",
    "\n",
    "variable_name.method(parameters)\n",
    "\n"
   ]
  },
  {
   "cell_type": "markdown",
   "id": "17f4d98d",
   "metadata": {
    "slideshow": {
     "slide_type": "fragment"
    }
   },
   "source": [
    "s.upper()"
   ]
  },
  {
   "cell_type": "markdown",
   "id": "541189bb",
   "metadata": {
    "slideshow": {
     "slide_type": "fragment"
    }
   },
   "source": [
    "It converts all the alphabets in the String into upper case. However, it didn't store it. (Immutability property)"
   ]
  },
  {
   "cell_type": "code",
   "execution_count": 59,
   "id": "9523d4d5",
   "metadata": {
    "slideshow": {
     "slide_type": "fragment"
    }
   },
   "outputs": [
    {
     "data": {
      "text/plain": [
       "'HELLO WORLD. WELCOME TO AP CLASS'"
      ]
     },
     "execution_count": 59,
     "metadata": {},
     "output_type": "execute_result"
    }
   ],
   "source": [
    "s.upper()"
   ]
  },
  {
   "cell_type": "markdown",
   "id": "99fa5596",
   "metadata": {
    "slideshow": {
     "slide_type": "fragment"
    }
   },
   "source": [
    "### Lower()\n",
    "Similarly, you can have lower(), it lowercases all the alphabets."
   ]
  },
  {
   "cell_type": "code",
   "execution_count": 60,
   "id": "c15ed9b1",
   "metadata": {
    "slideshow": {
     "slide_type": "fragment"
    }
   },
   "outputs": [
    {
     "data": {
      "text/plain": [
       "'hello world. welcome to ap class'"
      ]
     },
     "execution_count": 60,
     "metadata": {},
     "output_type": "execute_result"
    }
   ],
   "source": [
    "s.lower()"
   ]
  },
  {
   "cell_type": "markdown",
   "id": "f9c1a0c6",
   "metadata": {
    "slideshow": {
     "slide_type": "fragment"
    }
   },
   "source": [
    "Again, it will not change the actual String, unless you reassign it.\n",
    "\n"
   ]
  },
  {
   "cell_type": "markdown",
   "id": "f99b2509",
   "metadata": {
    "slideshow": {
     "slide_type": "slide"
    }
   },
   "source": [
    "### Split() Another important feature is to split the String into multiple Strings using some character.\n"
   ]
  },
  {
   "cell_type": "code",
   "execution_count": 61,
   "id": "4b7a2cc4",
   "metadata": {
    "slideshow": {
     "slide_type": "slide"
    }
   },
   "outputs": [
    {
     "data": {
      "text/plain": [
       "['Hello', 'World.', 'Welcome', 'to', 'AP', 'class']"
      ]
     },
     "execution_count": 61,
     "metadata": {},
     "output_type": "execute_result"
    }
   ],
   "source": [
    "s.split() #default is the blank space"
   ]
  },
  {
   "cell_type": "markdown",
   "id": "d642c72a",
   "metadata": {
    "slideshow": {
     "slide_type": "fragment"
    }
   },
   "source": [
    "You can use any other character"
   ]
  },
  {
   "cell_type": "code",
   "execution_count": 62,
   "id": "c1cf4de6",
   "metadata": {
    "slideshow": {
     "slide_type": "fragment"
    }
   },
   "outputs": [
    {
     "data": {
      "text/plain": [
       "['Hell', ' W', 'rld. Welc', 'me t', ' AP class']"
      ]
     },
     "execution_count": 62,
     "metadata": {},
     "output_type": "execute_result"
    }
   ],
   "source": [
    "s.split('o')"
   ]
  },
  {
   "cell_type": "markdown",
   "id": "77e7b156",
   "metadata": {
    "slideshow": {
     "slide_type": "fragment"
    }
   },
   "source": [
    "There are many more built-in methods available. You can visit the following link to learn about them. \n",
    "\n",
    "https://docs.python.org/3/library/stdtypes.html#string-methods"
   ]
  }
 ],
 "metadata": {
  "celltoolbar": "Slideshow",
  "kernelspec": {
   "display_name": "Python 3 (ipykernel)",
   "language": "python",
   "name": "python3"
  },
  "language_info": {
   "codemirror_mode": {
    "name": "ipython",
    "version": 3
   },
   "file_extension": ".py",
   "mimetype": "text/x-python",
   "name": "python",
   "nbconvert_exporter": "python",
   "pygments_lexer": "ipython3",
   "version": "3.9.7"
  },
  "toc": {
   "base_numbering": 1,
   "nav_menu": {},
   "number_sections": false,
   "sideBar": true,
   "skip_h1_title": false,
   "title_cell": "Table of Contents",
   "title_sidebar": "Contents",
   "toc_cell": false,
   "toc_position": {},
   "toc_section_display": true,
   "toc_window_display": false
  }
 },
 "nbformat": 4,
 "nbformat_minor": 5
}
