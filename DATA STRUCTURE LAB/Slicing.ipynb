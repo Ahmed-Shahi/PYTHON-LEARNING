{
 "cells": [
  {
   "cell_type": "code",
   "execution_count": 14,
   "id": "2eb6f727-2d3d-4075-9b84-afb4c2b62fdd",
   "metadata": {},
   "outputs": [
    {
     "name": "stdout",
     "output_type": "stream",
     "text": [
      "Ahmed\n",
      "Ahmed\n"
     ]
    }
   ],
   "source": [
    "s = \"Ahmed_Shahi\"\n",
    "split = s.split('_')[0]\n",
    "slic = s[0:5]\n",
    "print(slic)\n",
    "print(split)"
   ]
  },
  {
   "cell_type": "code",
   "execution_count": 48,
   "id": "c1274c13-f198-4fe6-a823-c7f32b1283ce",
   "metadata": {},
   "outputs": [
    {
     "data": {
      "text/plain": [
       "'ihahS_demhA'"
      ]
     },
     "execution_count": 48,
     "metadata": {},
     "output_type": "execute_result"
    }
   ],
   "source": [
    "s = \"Ahmed_Shahi\"\n",
    "s[::-1]"
   ]
  },
  {
   "cell_type": "code",
   "execution_count": 60,
   "id": "500f0613-835f-4090-ac41-f0cb3642e9ee",
   "metadata": {},
   "outputs": [
    {
     "name": "stdin",
     "output_type": "stream",
     "text": [
      "Enter Your Name: ahMed Shahi\n"
     ]
    },
    {
     "name": "stdout",
     "output_type": "stream",
     "text": [
      "The Name of User input is ahMed Shahi \n",
      "After Process the Name of user is Ahmed\n"
     ]
    }
   ],
   "source": [
    "#capital the first letter of name and collect only the first name\n",
    "name = input(\"Enter Your Name:\" )\n",
    "fName = name.split()[0]\n",
    "fL = fName[0].upper()\n",
    "slic = fName[1:].lower()\n",
    "final = fL+slic\n",
    "print(\"The Name of User input is %s \\nAfter Process the Name of user is %s\"%(name,final))"
   ]
  },
  {
   "cell_type": "code",
   "execution_count": 13,
   "id": "5f2029d5-6c41-4d4b-806b-266432c78a6f",
   "metadata": {},
   "outputs": [
    {
     "name": "stdout",
     "output_type": "stream",
     "text": [
      "3\n",
      "<class 'int'>\n",
      "<class 'int'>\n",
      "2\n",
      "<class 'int'>\n"
     ]
    }
   ],
   "source": [
    "a = 11\n",
    "b = 3\n",
    "a2 = a // b # '//' its change the data type float to int\n",
    "print(a2)\n",
    "print(type(a2))\n",
    "print(type(a))\n",
    "a3 = a%b\n",
    "print(a3)"
   ]
  },
  {
   "cell_type": "code",
   "execution_count": null,
   "id": "705ed382-a6a1-4903-8d95-c10f7625517e",
   "metadata": {},
   "outputs": [],
   "source": []
  }
 ],
 "metadata": {
  "kernelspec": {
   "display_name": "Python 3 (ipykernel)",
   "language": "python",
   "name": "python3"
  },
  "language_info": {
   "codemirror_mode": {
    "name": "ipython",
    "version": 3
   },
   "file_extension": ".py",
   "mimetype": "text/x-python",
   "name": "python",
   "nbconvert_exporter": "python",
   "pygments_lexer": "ipython3",
   "version": "3.12.6"
  }
 },
 "nbformat": 4,
 "nbformat_minor": 5
}
