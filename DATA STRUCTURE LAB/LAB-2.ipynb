{
 "cells": [
  {
   "cell_type": "markdown",
   "id": "6bf0aea2-cf41-4542-8534-bfba98972d43",
   "metadata": {},
   "source": [
    "LEN()"
   ]
  },
  {
   "cell_type": "code",
   "execution_count": 1,
   "id": "9c2e96d1-e273-405e-a145-c835c0286107",
   "metadata": {},
   "outputs": [
    {
     "data": {
      "text/plain": [
       "11"
      ]
     },
     "execution_count": 1,
     "metadata": {},
     "output_type": "execute_result"
    }
   ],
   "source": [
    "s = \"Hello World\"\n",
    "len(s)"
   ]
  },
  {
   "cell_type": "markdown",
   "id": "54aaef2a-c87e-43fc-8f26-547f9cc02445",
   "metadata": {},
   "source": [
    "SLICE:"
   ]
  },
  {
   "cell_type": "code",
   "execution_count": 6,
   "id": "dfada8e0-21e9-4979-9a78-0a46c9b3673e",
   "metadata": {},
   "outputs": [
    {
     "name": "stdout",
     "output_type": "stream",
     "text": [
      "Ahmed\n"
     ]
    }
   ],
   "source": [
    "s = \"Ahmed_Shahi\"\n",
    "sl = s[0:5]\n",
    "print(sl)\n"
   ]
  },
  {
   "cell_type": "code",
   "execution_count": 7,
   "id": "5c7a9e55-ac0c-4647-87b0-fe5533e90d05",
   "metadata": {},
   "outputs": [
    {
     "data": {
      "text/plain": [
       "'ihahS_demhA'"
      ]
     },
     "execution_count": 7,
     "metadata": {},
     "output_type": "execute_result"
    }
   ],
   "source": [
    "s = \"Ahmed_Shahi\"\n",
    "s[::-1]"
   ]
  },
  {
   "cell_type": "markdown",
   "id": "6fde4a11-2a6a-416d-a2a4-0632613d371a",
   "metadata": {},
   "source": [
    "COMMON METHODS OF STRING"
   ]
  },
  {
   "cell_type": "code",
   "execution_count": 19,
   "id": "3ef3d58c-88bc-47d8-8264-5c16331c5d4f",
   "metadata": {},
   "outputs": [
    {
     "name": "stdout",
     "output_type": "stream",
     "text": [
      "AHMED_SHAHI\n",
      "ahmed_shahi\n",
      "['Ahmed', 'Shahi']\n"
     ]
    }
   ],
   "source": [
    "s = \"Ahmed_Shahi\"\n",
    "print(s.upper())\n",
    "print(s.lower())\n",
    "print(s.split('_'))"
   ]
  }
 ],
 "metadata": {
  "kernelspec": {
   "display_name": "Python 3 (ipykernel)",
   "language": "python",
   "name": "python3"
  },
  "language_info": {
   "codemirror_mode": {
    "name": "ipython",
    "version": 3
   },
   "file_extension": ".py",
   "mimetype": "text/x-python",
   "name": "python",
   "nbconvert_exporter": "python",
   "pygments_lexer": "ipython3",
   "version": "3.12.6"
  }
 },
 "nbformat": 4,
 "nbformat_minor": 5
}
