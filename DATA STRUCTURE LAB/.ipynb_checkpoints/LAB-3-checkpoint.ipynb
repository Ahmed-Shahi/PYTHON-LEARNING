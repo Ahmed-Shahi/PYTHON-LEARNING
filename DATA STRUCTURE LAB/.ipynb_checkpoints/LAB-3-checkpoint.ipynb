{
 "cells": [
  {
   "cell_type": "code",
   "execution_count": 25,
   "id": "3a5059df-c8ee-4332-b163-619d5f799c1c",
   "metadata": {},
   "outputs": [
    {
     "name": "stdout",
     "output_type": "stream",
     "text": [
      "The statement is inside 'if' body.\n",
      "This statment is outside 'if' and 'else' body.\n"
     ]
    }
   ],
   "source": [
    "if True:\n",
    "    print(f\"The statement is inside {'if'!r} body.\")\n",
    "else:\n",
    "    print(f\"This statment is inside {'else'!r} body.\")\n",
    "print(f\"This statment is outside {'if'!r} and {'else' !r} body.\")\n"
   ]
  },
  {
   "cell_type": "code",
   "execution_count": 26,
   "id": "5d182991-bff7-4fe8-844b-a2d0d250a2bb",
   "metadata": {},
   "outputs": [
    {
     "name": "stdout",
     "output_type": "stream",
     "text": [
      "The first condition is True\n",
      "The second condition is False\n"
     ]
    }
   ],
   "source": [
    "a=20\n",
    "b=15\n",
    "c=10\n",
    "\n",
    "if a > b > c:\n",
    "    print('The first condition is True')\n",
    "    if a < b > c:\n",
    "        print('The second condition is True')\n",
    "    else:\n",
    "        print('The second condition is False')\n",
    "else: \n",
    "    print('First condition is False')"
   ]
  },
  {
   "cell_type": "code",
   "execution_count": 42,
   "id": "cbd39b16-a80c-4b55-a75f-668b696ca68d",
   "metadata": {},
   "outputs": [
    {
     "name": "stdin",
     "output_type": "stream",
     "text": [
      "Enter Your Age:  99\n",
      "What is your 'CNIC' Number aaaaaaaaaaaaa\n"
     ]
    },
    {
     "name": "stdout",
     "output_type": "stream",
     "text": [
      "Must be atleast 13 Digits\n"
     ]
    }
   ],
   "source": [
    "age = int(input(\"Enter Your Age: \"))\n",
    "if age >= 18:\n",
    "    num = (input(f\"What is your {'CNIC'!r} Number\"))\n",
    "    if len(num) == 13 and num.isdigit():\n",
    "        print(f\"CNIC : {num[0:5]}-{num[5:12]}-{num[12:13]}\")\n",
    "    else:\n",
    "        print(\"Must be atleast 13 Digits\")\n",
    "else:\n",
    "    print(\"Wait Till You Become 18+\")"
   ]
  },
  {
   "cell_type": "code",
   "execution_count": null,
   "id": "de5d31aa-4ca0-428c-a29d-dee28093ae6f",
   "metadata": {},
   "outputs": [],
   "source": []
  }
 ],
 "metadata": {
  "kernelspec": {
   "display_name": "Python 3 (ipykernel)",
   "language": "python",
   "name": "python3"
  },
  "language_info": {
   "codemirror_mode": {
    "name": "ipython",
    "version": 3
   },
   "file_extension": ".py",
   "mimetype": "text/x-python",
   "name": "python",
   "nbconvert_exporter": "python",
   "pygments_lexer": "ipython3",
   "version": "3.12.6"
  }
 },
 "nbformat": 4,
 "nbformat_minor": 5
}
