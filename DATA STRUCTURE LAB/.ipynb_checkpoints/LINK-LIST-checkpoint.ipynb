{
 "cells": [
  {
   "cell_type": "code",
   "execution_count": 6,
   "id": "0018680a-0d0d-4839-9355-4342b4eec25e",
   "metadata": {},
   "outputs": [
    {
     "name": "stdout",
     "output_type": "stream",
     "text": [
      "10-->20-->30-->None\n"
     ]
    }
   ],
   "source": [
    "class Node:\n",
    "    def __init__(self,data):\n",
    "        self.data = data\n",
    "        self.next = None\n",
    "\n",
    "a = Node(10)       \n",
    "b = Node(20)       \n",
    "c = Node(30)       \n",
    "\n",
    "a.next = b\n",
    "b.next = c\n",
    "\n",
    "head = a\n",
    "cur = head\n",
    "\n",
    "while cur is not None:\n",
    "    print(cur.data,end='-->')\n",
    "    cur = cur.next\n",
    "print('None')"
   ]
  },
  {
   "cell_type": "code",
   "execution_count": null,
   "id": "775c89ec-abc2-48da-9863-d22a8bffa78e",
   "metadata": {},
   "outputs": [],
   "source": [
    "class Node:\n",
    "    def __init__(self,data):\n",
    "        self.data = data\n",
    "        self.next = None\n",
    "\n",
    "class linklist:\n",
    "    def __init__(self):\n",
    "        self.head = None\n",
    "    def printing(self):\n",
    "        n = self.head\n",
    "        while n is not None:\n",
    "            print(n.data,end='-->')\n",
    "            n.next\n",
    "\n",
    "    def inserting(self,data):\n",
    "        if self.head is None:\n",
    "            self.head = Node(data)\n",
    "        else:\n",
    "            print(\"List is not empty\")\n",
    "\n",
    "l = linklist()\n",
    "l.inserting(10)\n",
    "l.printing()\n",
    "\n",
    "\n",
    "# problems\n",
    "# 1. loop infinity chal raha hy\n",
    "# 2. "
   ]
  },
  {
   "cell_type": "code",
   "execution_count": null,
   "id": "8ae620f2-0995-4625-8471-6aac15f3781f",
   "metadata": {},
   "outputs": [],
   "source": []
  }
 ],
 "metadata": {
  "kernelspec": {
   "display_name": "Python 3 (ipykernel)",
   "language": "python",
   "name": "python3"
  },
  "language_info": {
   "codemirror_mode": {
    "name": "ipython",
    "version": 3
   },
   "file_extension": ".py",
   "mimetype": "text/x-python",
   "name": "python",
   "nbconvert_exporter": "python",
   "pygments_lexer": "ipython3",
   "version": "3.12.6"
  }
 },
 "nbformat": 4,
 "nbformat_minor": 5
}
