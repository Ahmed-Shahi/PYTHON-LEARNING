{
 "cells": [
  {
   "cell_type": "markdown",
   "id": "d97993eb-cf20-492f-ab72-901fdc691054",
   "metadata": {},
   "source": [
    "TYPE():"
   ]
  },
  {
   "cell_type": "code",
   "execution_count": 2,
   "id": "ca9ebddf-35e0-4da6-a803-3ef4ffe18d8b",
   "metadata": {},
   "outputs": [
    {
     "name": "stdout",
     "output_type": "stream",
     "text": [
      "3\n",
      "<class 'int'>\n",
      "<class 'int'>\n",
      "2\n"
     ]
    }
   ],
   "source": [
    "a = 11\n",
    "b = 3\n",
    "a2 = a // b # '//' its change the data type float to int\n",
    "print(a2)\n",
    "print(type(a2))\n",
    "print(type(a))\n",
    "a3 = a%b\n",
    "print(a3)"
   ]
  },
  {
   "cell_type": "markdown",
   "id": "77726c97-ed84-4cf1-876f-8c1a3718eb9f",
   "metadata": {},
   "source": [
    "TYPE-CASTING:"
   ]
  },
  {
   "cell_type": "code",
   "execution_count": 7,
   "id": "1a9ac6a1-d19b-4971-8dc9-7c5e1961641c",
   "metadata": {},
   "outputs": [
    {
     "name": "stdin",
     "output_type": "stream",
     "text": [
      "How old are you?  20\n"
     ]
    },
    {
     "name": "stdout",
     "output_type": "stream",
     "text": [
      "Your Age Is: 20\n",
      "<class 'int'>\n"
     ]
    }
   ],
   "source": [
    "age = int(input (\"How old are you? \"))\n",
    "print(f'Your Age Is: {age}')\n",
    "print(type(age))"
   ]
  }
 ],
 "metadata": {
  "kernelspec": {
   "display_name": "Python 3 (ipykernel)",
   "language": "python",
   "name": "python3"
  },
  "language_info": {
   "codemirror_mode": {
    "name": "ipython",
    "version": 3
   },
   "file_extension": ".py",
   "mimetype": "text/x-python",
   "name": "python",
   "nbconvert_exporter": "python",
   "pygments_lexer": "ipython3",
   "version": "3.12.6"
  }
 },
 "nbformat": 4,
 "nbformat_minor": 5
}
