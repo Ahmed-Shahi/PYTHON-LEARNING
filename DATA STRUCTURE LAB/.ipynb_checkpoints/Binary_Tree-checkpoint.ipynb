{
 "cells": [
  {
   "cell_type": "code",
   "execution_count": 13,
   "id": "f27a14c9-ea79-49ff-8b5a-41916069064f",
   "metadata": {},
   "outputs": [],
   "source": [
    "class BST:\n",
    "    def __init__(self,data):\n",
    "        self.data = data\n",
    "        self.left = None\n",
    "        self.right = None\n",
    "\n",
    "class Tree:\n",
    "    def __init__(self,data):\n",
    "        self.root = None\n",
    "\n",
    "    def add(self,data):\n",
    "        if self.root is None:\n",
    "            self.root = BST(data)\n",
    "        else:\n",
    "            self.add_node(self.root,data)\n",
    "\n",
    "    def add_node(self,node,data):\n",
    "        if node.data < data:\n",
    "            self.add_right(node,data)\n",
    "        else:\n",
    "            self.add_left(node,data)\n",
    "            \n",
    "    def add_right(self,node,data):\n",
    "        if node.right is None:\n",
    "            node.right = BST(data)\n",
    "        else:\n",
    "            self.add_node(node.right,data)\n",
    "   \n",
    "    def add_left(self,node,data):\n",
    "        if node.left is None:\n",
    "            node.left = BST(data)\n",
    "        else:\n",
    "            self.add_node(node.left,data)\n",
    "    \n",
    "\n",
    "        \n",
    "\n",
    "\n",
    "        "
   ]
  },
  {
   "cell_type": "code",
   "execution_count": 14,
   "id": "bc7b0a81-3a25-43dd-a521-a95ffe97a786",
   "metadata": {},
   "outputs": [
    {
     "name": "stdout",
     "output_type": "stream",
     "text": [
      "5 10 15 20 30 "
     ]
    }
   ],
   "source": [
    "class Node:\n",
    "    def __init__(self, data):\n",
    "        self.data = data\n",
    "        self.left = None\n",
    "        self.right = None\n",
    "\n",
    "class Tree:\n",
    "    def __init__(self):\n",
    "        self.root = None\n",
    "\n",
    "    def add(self, data):\n",
    "        if self.root is None:  # If the tree is empty, create the root\n",
    "            self.root = Node(data)\n",
    "        else:  # Otherwise, find the correct position and add the new node\n",
    "            self.add_node(self.root, data)\n",
    "\n",
    "    def add_node(self, current, data):\n",
    "        if data < current.data:  # If the data is smaller, go to the left\n",
    "            if current.left is None:\n",
    "                current.left = Node(data)\n",
    "            else:\n",
    "                self.add_node(current.left, data)\n",
    "        else:  # If the data is larger or equal, go to the right\n",
    "            if current.right is None:\n",
    "                current.right = Node(data)\n",
    "            else:\n",
    "                self.add_node(current.right, data)\n",
    "\n",
    "# Create a tree and add nodes\n",
    "tree = Tree()\n",
    "tree.add(20)\n",
    "tree.add(10)\n",
    "tree.add(30)\n",
    "tree.add(5)\n",
    "tree.add(15)\n",
    "\n",
    "\n",
    "# To test, you could add a print function for traversal\n",
    "def in_order_traversal(node):\n",
    "    if node:\n",
    "        in_order_traversal(node.left)\n",
    "        print(node.data, end=\" \")\n",
    "        in_order_traversal(node.right)\n",
    "\n",
    "\n",
    "in_order_traversal(tree.root)"
   ]
  },
  {
   "cell_type": "code",
   "execution_count": null,
   "id": "0e8041fb-6fd2-4b22-82f7-d6f75a077e02",
   "metadata": {},
   "outputs": [],
   "source": []
  }
 ],
 "metadata": {
  "kernelspec": {
   "display_name": "Python 3 (ipykernel)",
   "language": "python",
   "name": "python3"
  },
  "language_info": {
   "codemirror_mode": {
    "name": "ipython",
    "version": 3
   },
   "file_extension": ".py",
   "mimetype": "text/x-python",
   "name": "python",
   "nbconvert_exporter": "python",
   "pygments_lexer": "ipython3",
   "version": "3.12.6"
  }
 },
 "nbformat": 4,
 "nbformat_minor": 5
}
