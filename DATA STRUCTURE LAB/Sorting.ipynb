{
 "cells": [
  {
   "cell_type": "code",
   "execution_count": 16,
   "id": "32c7762a-4b9f-448b-9fdd-6fc7b88f704b",
   "metadata": {},
   "outputs": [
    {
     "data": {
      "text/plain": [
       "[-34, -11, 2, 6, 18, 32, 68]"
      ]
     },
     "execution_count": 16,
     "metadata": {},
     "output_type": "execute_result"
    }
   ],
   "source": [
    "def bubbleSort(arr):\n",
    "    l = len(arr)\n",
    "    for i in range(l-1):\n",
    "        for j in range(l-i-1):\n",
    "            if arr[j] > arr[j+1]:\n",
    "                arr[j],arr[j+1] = arr[j+1],arr[j]\n",
    "\n",
    "    return arr\n",
    "\n",
    "list1 = [18,32,-11,6,68,2,-34]\n",
    "bubbleSort(list1)"
   ]
  },
  {
   "cell_type": "code",
   "execution_count": 18,
   "id": "cf0bc4f1-131d-45e8-a391-b6619a6de91a",
   "metadata": {},
   "outputs": [
    {
     "data": {
      "text/plain": [
       "[1, 2, 3, 4, 5, 6, 10, 12]"
      ]
     },
     "execution_count": 18,
     "metadata": {},
     "output_type": "execute_result"
    }
   ],
   "source": [
    "def insertSort(arr):\n",
    "    for i in range(1,len(arr)):\n",
    "        key = arr[i]\n",
    "        j = i - 1\n",
    "        while j>=0 and arr[j] > key:\n",
    "            arr[j+1] = arr[j]\n",
    "            j-=1\n",
    "            arr[j + 1] = key\n",
    "\n",
    "    return arr\n",
    "\n",
    "list1 = [4,3,2,10,12,1,5,6]\n",
    "insertSort(list1)"
   ]
  },
  {
   "cell_type": "code",
   "execution_count": 23,
   "id": "fc281ab7-1c8a-45c1-a731-618c440f7b79",
   "metadata": {},
   "outputs": [
    {
     "data": {
      "text/plain": [
       "[17, 20, 26, 31, 44, 54, 55, 77, 93]"
      ]
     },
     "execution_count": 23,
     "metadata": {},
     "output_type": "execute_result"
    }
   ],
   "source": [
    "def selectionSort(arr):\n",
    "    for i in range(len(arr)):\n",
    "        min_idx = i\n",
    "        for j in range(i+1, len(arr)):\n",
    "            if arr[j] < arr[min_idx]:\n",
    "                min_idx = j\n",
    "        arr[i], arr[min_idx] = arr[min_idx], arr[i]\n",
    "    return arr\n",
    "\n",
    "arr = [26,54,93,17,77,31,44,55,20]\n",
    "selectionSort(arr)"
   ]
  },
  {
   "cell_type": "code",
   "execution_count": null,
   "id": "83ba3f56-1c1d-4b62-abc7-477d3372286d",
   "metadata": {},
   "outputs": [],
   "source": []
  }
 ],
 "metadata": {
  "kernelspec": {
   "display_name": "Python 3 (ipykernel)",
   "language": "python",
   "name": "python3"
  },
  "language_info": {
   "codemirror_mode": {
    "name": "ipython",
    "version": 3
   },
   "file_extension": ".py",
   "mimetype": "text/x-python",
   "name": "python",
   "nbconvert_exporter": "python",
   "pygments_lexer": "ipython3",
   "version": "3.12.6"
  }
 },
 "nbformat": 4,
 "nbformat_minor": 5
}
