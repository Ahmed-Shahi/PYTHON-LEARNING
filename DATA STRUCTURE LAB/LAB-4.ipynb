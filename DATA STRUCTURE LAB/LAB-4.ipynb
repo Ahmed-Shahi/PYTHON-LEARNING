{
 "cells": [
  {
   "cell_type": "code",
   "execution_count": 1,
   "id": "21e99ffd-3cd1-4fb8-9c4b-427bb234d9b2",
   "metadata": {},
   "outputs": [
    {
     "name": "stdout",
     "output_type": "stream",
     "text": [
      "11\n",
      "22\n",
      "33\n",
      "44\n",
      "55\n"
     ]
    }
   ],
   "source": [
    "list1 = [11,22,33,44,55]\n",
    "for i in list1:\n",
    "    print(i)"
   ]
  },
  {
   "cell_type": "code",
   "execution_count": 2,
   "id": "71ed9755-3d0c-4233-ad8d-418c1a276a7b",
   "metadata": {},
   "outputs": [
    {
     "name": "stdout",
     "output_type": "stream",
     "text": [
      "55\n",
      "44\n",
      "33\n",
      "22\n",
      "11\n"
     ]
    }
   ],
   "source": [
    "#for the reverse list\n",
    "list1 = [11,22,33,44,55]\n",
    "for i in range(len(list1)-1,-1,-1):\n",
    "    print(list1[i])"
   ]
  },
  {
   "cell_type": "code",
   "execution_count": 6,
   "id": "f7662051-2e14-4119-be48-73c70d21ec3f",
   "metadata": {},
   "outputs": [
    {
     "name": "stdout",
     "output_type": "stream",
     "text": [
      "11\n",
      "22\n",
      "22\n",
      "66\n",
      "77\n",
      "88\n"
     ]
    }
   ],
   "source": [
    "#for tuple\n",
    "t1 = (11,22,66,77,88)\n",
    "for i in t1:\n",
    "    print(i)"
   ]
  },
  {
   "cell_type": "code",
   "execution_count": 4,
   "id": "5a140a83-5a3b-407a-8dd6-7ae666455263",
   "metadata": {},
   "outputs": [
    {
     "name": "stdout",
     "output_type": "stream",
     "text": [
      "33\n",
      "66\n",
      "22\n",
      "55\n",
      "11\n",
      "44\n"
     ]
    }
   ],
   "source": [
    "#for set\n",
    "s1 = {11,22,33,44,55,66}\n",
    "for i in s1:\n",
    "    print(i)"
   ]
  },
  {
   "cell_type": "code",
   "execution_count": 5,
   "id": "44165758-9e78-46f9-9b89-e80a8194ca44",
   "metadata": {},
   "outputs": [
    {
     "name": "stdout",
     "output_type": "stream",
     "text": [
      "1 Ali\n",
      "2 Asif\n",
      "3 Adam\n"
     ]
    }
   ],
   "source": [
    "#for dictionary\n",
    "d1 = {1:'Ali',2:'Asif',3:'Adam'}\n",
    "for i in d1:\n",
    "    print(i,d1[i])"
   ]
  },
  {
   "cell_type": "code",
   "execution_count": 1,
   "id": "a7895d59-40ed-482d-ba68-3695f336cde5",
   "metadata": {},
   "outputs": [
    {
     "name": "stdout",
     "output_type": "stream",
     "text": [
      "55\n",
      "44\n",
      "33\n",
      "22\n",
      "11\n"
     ]
    }
   ],
   "source": [
    "#for reverse\n",
    "list1 = [11,22,33,44,55]\n",
    "l = len(list1)-1\n",
    "while l >= 0:\n",
    "    print(list1[l])\n",
    "    l-=1"
   ]
  },
  {
   "cell_type": "code",
   "execution_count": 2,
   "id": "86eb9905-de43-457c-9ffa-0b3a759d53c7",
   "metadata": {},
   "outputs": [
    {
     "name": "stdout",
     "output_type": "stream",
     "text": [
      "11\n",
      "22\n",
      "33\n",
      "44\n",
      "55\n"
     ]
    }
   ],
   "source": [
    "list1 = [11,22,33,44,55]\n",
    "i = 0\n",
    "while i < len(list1):\n",
    "    print(list1[i])\n",
    "    i+=1"
   ]
  }
 ],
 "metadata": {
  "kernelspec": {
   "display_name": "Python 3 (ipykernel)",
   "language": "python",
   "name": "python3"
  },
  "language_info": {
   "codemirror_mode": {
    "name": "ipython",
    "version": 3
   },
   "file_extension": ".py",
   "mimetype": "text/x-python",
   "name": "python",
   "nbconvert_exporter": "python",
   "pygments_lexer": "ipython3",
   "version": "3.12.6"
  }
 },
 "nbformat": 4,
 "nbformat_minor": 5
}
