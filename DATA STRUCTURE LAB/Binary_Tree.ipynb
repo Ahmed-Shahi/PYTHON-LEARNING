{
 "cells": [
  {
   "cell_type": "code",
   "execution_count": 6,
   "id": "0e8041fb-6fd2-4b22-82f7-d6f75a077e02",
   "metadata": {},
   "outputs": [
    {
     "name": "stdout",
     "output_type": "stream",
     "text": [
      "Root:  30\n",
      "30   Right:  40\n",
      "30   Left:  10\n",
      "10   Left:  5\n",
      "40   Right:  50\n",
      "50   Left:  45\n",
      "5   Left:  3\n",
      "40   Left:  35\n",
      "3   Left:  2\n",
      "50   Right:  80\n"
     ]
    }
   ],
   "source": [
    "class Node:\n",
    "    def __init__(self,data):\n",
    "        self.left = None\n",
    "        self.right = None\n",
    "        self.data = data\n",
    "\n",
    "class tree:\n",
    "    def __init__(self):\n",
    "        self.root = None\n",
    "\n",
    "    def add_node(self,current,data):\n",
    "        if data < current.data:\n",
    "            if current.left is None:   \n",
    "                current.left = Node(data)\n",
    "                print(current.data,\"  Left: \",current.left.data)\n",
    "            else:\n",
    "                self.add_node(current.left,data)\n",
    "        else:\n",
    "            if current.right is None:   \n",
    "                current.right = Node(data)\n",
    "                print( current.data,\"  Right: \",current.right.data)  \n",
    "            else:\n",
    "                self.add_node(current.right,data)\n",
    "            \n",
    "    \n",
    "    def add(self,data):\n",
    "        if self.root is None:\n",
    "            self.root = Node(data)\n",
    "            print(\"Root: \",self.root.data,)\n",
    "        else:\n",
    "            self.add_node(self.root,data) \n",
    "t = tree()\n",
    "t.add(30)\n",
    "t.add(40)\n",
    "t.add(10)\n",
    "t.add(5)\n",
    "t.add(50)\n",
    "t.add(45)\n",
    "t.add(3)\n",
    "t.add(35)\n",
    "t.add(2)\n",
    "t.add(80)\n",
    "                \n",
    "        "
   ]
  },
  {
   "cell_type": "code",
   "execution_count": null,
   "id": "9b983159-5d89-4981-b974-9875a1e4ef97",
   "metadata": {},
   "outputs": [],
   "source": []
  },
  {
   "cell_type": "code",
   "execution_count": null,
   "id": "1f159729-7f4e-4a0c-99ae-74b691930862",
   "metadata": {},
   "outputs": [],
   "source": []
  }
 ],
 "metadata": {
  "kernelspec": {
   "display_name": "Python 3 (ipykernel)",
   "language": "python",
   "name": "python3"
  },
  "language_info": {
   "codemirror_mode": {
    "name": "ipython",
    "version": 3
   },
   "file_extension": ".py",
   "mimetype": "text/x-python",
   "name": "python",
   "nbconvert_exporter": "python",
   "pygments_lexer": "ipython3",
   "version": "3.12.6"
  }
 },
 "nbformat": 4,
 "nbformat_minor": 5
}
