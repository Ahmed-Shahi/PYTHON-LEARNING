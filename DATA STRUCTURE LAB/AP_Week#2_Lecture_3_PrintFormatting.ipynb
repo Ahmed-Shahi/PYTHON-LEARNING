{
 "cells": [
  {
   "cell_type": "markdown",
   "id": "6cf1ab7d",
   "metadata": {
    "slideshow": {
     "slide_type": "slide"
    }
   },
   "source": [
    "# Print Formatting\n",
    "\n",
    "We saw examples during last lecture, where we combined strings with variables.\n",
    "\n",
    "- print(\"You gave the following response: \", from_user) \n",
    "- print(f'OK, Hey guys, {from_user} is {age+10} years old.')\n",
    "\n",
    "The first one is concatenating strings using '+' operator but the second one is using formatting. In this lecture, we will describe how to perform formatting.\n",
    "\n",
    "Formatting can be done in three ways.\n",
    "- Using placeholders (% modulo character).\n",
    "- Using `.format()` method from the String class.\n",
    "- Using *f-strings*, formatted string literals."
   ]
  },
  {
   "cell_type": "markdown",
   "id": "fdb9ad69",
   "metadata": {
    "slideshow": {
     "slide_type": "slide"
    }
   },
   "source": [
    "## Formatting Using placeholders\n",
    "\n",
    "%s is used as a placeholder. The modulo operator (%) here is the \"string formatting operator\".\n",
    "\n",
    "As an example,"
   ]
  },
  {
   "cell_type": "code",
   "execution_count": 1,
   "id": "5591a2b3",
   "metadata": {
    "slideshow": {
     "slide_type": "fragment"
    }
   },
   "outputs": [
    {
     "name": "stdout",
     "output_type": "stream",
     "text": [
      "Lets use the placeholder to put text here\n"
     ]
    }
   ],
   "source": [
    "print(\"Lets use the placeholder to put %s here\"%'text')"
   ]
  },
  {
   "cell_type": "markdown",
   "id": "c6a7de1c",
   "metadata": {
    "slideshow": {
     "slide_type": "fragment"
    }
   },
   "source": [
    "More than one item can be substituted (in particular order)"
   ]
  },
  {
   "cell_type": "code",
   "execution_count": 2,
   "id": "6feaaa8f",
   "metadata": {
    "slideshow": {
     "slide_type": "fragment"
    }
   },
   "outputs": [
    {
     "name": "stdout",
     "output_type": "stream",
     "text": [
      "The flight was scheduled on Monday at 9AM\n"
     ]
    }
   ],
   "source": [
    "print(\"The flight was scheduled on %s at %s\"%('Monday','9AM'))"
   ]
  },
  {
   "cell_type": "markdown",
   "id": "24475c6e",
   "metadata": {
    "slideshow": {
     "slide_type": "slide"
    }
   },
   "source": [
    "Ofcourse you can use the variables, instead of constant strings."
   ]
  },
  {
   "cell_type": "code",
   "execution_count": 3,
   "id": "a8ee1fe6",
   "metadata": {
    "slideshow": {
     "slide_type": "fragment"
    }
   },
   "outputs": [
    {
     "name": "stdout",
     "output_type": "stream",
     "text": [
      "What is your name? John\n",
      "So John, or should I call you Big J, I hope you are enjoying this course.\n"
     ]
    }
   ],
   "source": [
    "from_user = input(\"What is your name? \")\n",
    "print('So %s, or should I call you Big %s, I hope you are enjoying this course.'%(from_user, from_user[0].upper()))"
   ]
  },
  {
   "cell_type": "markdown",
   "id": "3f23ac72",
   "metadata": {
    "slideshow": {
     "slide_type": "slide"
    }
   },
   "source": [
    "### Format conversion\n",
    "\n",
    "You can use %r to use the string in its literal version, i.e. with the quotation marks as well as any escape character as is.\n",
    "\n",
    "For example, "
   ]
  },
  {
   "cell_type": "code",
   "execution_count": 4,
   "id": "fb0339d9",
   "metadata": {
    "slideshow": {
     "slide_type": "fragment"
    }
   },
   "outputs": [
    {
     "name": "stdout",
     "output_type": "stream",
     "text": [
      "So, your name was 'John'\n"
     ]
    }
   ],
   "source": [
    "print(\"So, your name was %r\"%from_user)"
   ]
  },
  {
   "cell_type": "markdown",
   "id": "b7d9d55c",
   "metadata": {
    "slideshow": {
     "slide_type": "fragment"
    }
   },
   "source": [
    "Using escape characters"
   ]
  },
  {
   "cell_type": "code",
   "execution_count": 1,
   "id": "c279112f",
   "metadata": {
    "slideshow": {
     "slide_type": "fragment"
    }
   },
   "outputs": [
    {
     "name": "stdout",
     "output_type": "stream",
     "text": [
      "Using the tab \tcharacter\n",
      "Not Using the 'tab \\tcharacter'\n"
     ]
    }
   ],
   "source": [
    "print('Evaluating the %s'%'tab \\tcharacter')\n",
    "print('Not Evaluating the %r'%'tab \\tcharacter')"
   ]
  },
  {
   "cell_type": "code",
   "execution_count": 75,
   "id": "fea2b584",
   "metadata": {
    "slideshow": {
     "slide_type": "fragment"
    }
   },
   "outputs": [
    {
     "name": "stdout",
     "output_type": "stream",
     "text": [
      "Using the newline \n",
      "character\n",
      "Using the 'newline \\ncharacter'\n"
     ]
    }
   ],
   "source": [
    "print('Evaluating the %s'%'newline \\ncharacter')\n",
    "print('Not Evaluating the %r'%'newline \\ncharacter')"
   ]
  },
  {
   "cell_type": "markdown",
   "id": "54f6ea6b",
   "metadata": {
    "slideshow": {
     "slide_type": "slide"
    }
   },
   "source": [
    "So far, we have looked at Strings. %s operator takes the value and converts it into string. Another operator %d takes the parameter and converts it into integer (truncates if there is float value). \n",
    "\n",
    "Consider the example,"
   ]
  },
  {
   "cell_type": "code",
   "execution_count": 76,
   "id": "66d9914a",
   "metadata": {
    "slideshow": {
     "slide_type": "fragment"
    }
   },
   "outputs": [
    {
     "name": "stdout",
     "output_type": "stream",
     "text": [
      "The strawberry is priced at 750 per kilo today. That means 21.262119408062595 per ounce.\n",
      "The strawberry is priced at 750 per kilo today. That means 21 per ounce.\n"
     ]
    }
   ],
   "source": [
    "#1 kilo is 35.274 ounces\n",
    "print('The strawberry is priced at %s per kilo today. That means %s per ounce.'%(750, 750/35.274))\n",
    "\n",
    "print('The strawberry is priced at %d per kilo today. That means %d per ounce.'%(750, 750/35.274))"
   ]
  },
  {
   "cell_type": "markdown",
   "id": "245370ff",
   "metadata": {
    "slideshow": {
     "slide_type": "slide"
    }
   },
   "source": [
    "## Formatting Floats\n",
    "\n",
    "Using the % operator, we can also format floats. Formatting float includes how many totals digits to show and how many to show after the decimal. So, for example the format %5.2f means, the minimum number of characters shown should be 5 (will add whitespace on the left and 0 after decimal digits) and .2 indicates how many digits to show after the decimal."
   ]
  },
  {
   "cell_type": "markdown",
   "id": "bde1e6a9",
   "metadata": {
    "slideshow": {
     "slide_type": "fragment"
    }
   },
   "source": [
    "Showing **3 digits minimum with 2 after decimal**"
   ]
  },
  {
   "cell_type": "code",
   "execution_count": 77,
   "id": "1308b648",
   "metadata": {
    "slideshow": {
     "slide_type": "fragment"
    }
   },
   "outputs": [
    {
     "name": "stdout",
     "output_type": "stream",
     "text": [
      "The strawberry is priced at 750 per kilo today. That means 21.26 per ounce.\n"
     ]
    }
   ],
   "source": [
    "print('The strawberry is priced at %d per kilo today. That means %3.2f per ounce.'%(750, 750/35.274))"
   ]
  },
  {
   "cell_type": "markdown",
   "id": "c6fce604",
   "metadata": {
    "slideshow": {
     "slide_type": "fragment"
    }
   },
   "source": [
    "Showing **5 digits minimum with 2 after decimal**"
   ]
  },
  {
   "cell_type": "code",
   "execution_count": 3,
   "id": "31d2f5b0",
   "metadata": {
    "slideshow": {
     "slide_type": "fragment"
    }
   },
   "outputs": [
    {
     "name": "stdout",
     "output_type": "stream",
     "text": [
      "The strawberry is priced at 750 per kilo today. That means 21.26 per ounce.\n"
     ]
    }
   ],
   "source": [
    "print('The strawberry is priced at %d per kilo today. That means %5.2f per ounce.'%(750, 750/35.274))"
   ]
  },
  {
   "cell_type": "markdown",
   "id": "8d803f04",
   "metadata": {
    "slideshow": {
     "slide_type": "fragment"
    }
   },
   "source": [
    "Showing **5 digits minimum with 4 after decimal**"
   ]
  },
  {
   "cell_type": "code",
   "execution_count": 79,
   "id": "b1d5082a",
   "metadata": {
    "slideshow": {
     "slide_type": "fragment"
    }
   },
   "outputs": [
    {
     "name": "stdout",
     "output_type": "stream",
     "text": [
      "The strawberry is priced at 750 per kilo today. That means 21.2621 per ounce.\n"
     ]
    }
   ],
   "source": [
    "print('The strawberry is priced at %d per kilo today. That means %5.4f per ounce.'%(750, 750/35.274))"
   ]
  },
  {
   "cell_type": "markdown",
   "id": "5de9d41c",
   "metadata": {
    "slideshow": {
     "slide_type": "fragment"
    }
   },
   "source": [
    "Showing **5 digits minimum with 0 after decimal**"
   ]
  },
  {
   "cell_type": "code",
   "execution_count": 7,
   "id": "7326f273",
   "metadata": {
    "slideshow": {
     "slide_type": "fragment"
    }
   },
   "outputs": [
    {
     "name": "stdout",
     "output_type": "stream",
     "text": [
      "The strawberry is priced at 750.00 per kilo today. That means    21 per ounce.\n"
     ]
    }
   ],
   "source": [
    "print('The strawberry is priced at %5.2f per kilo today. That means %5.0f per ounce.'%(750, 750/35.274))"
   ]
  },
  {
   "cell_type": "markdown",
   "id": "1e85d0cc",
   "metadata": {
    "slideshow": {
     "slide_type": "fragment"
    }
   },
   "source": [
    "Notice that the two zeros were added after the decimal (in the first parameter) and the white space before 21 due to the requirement of 5 digits."
   ]
  },
  {
   "cell_type": "markdown",
   "id": "a03c6ec6",
   "metadata": {
    "slideshow": {
     "slide_type": "fragment"
    }
   },
   "source": [
    "You can get more information on this formatting with placeholders at\n",
    "https://docs.python.org/3/library/stdtypes.html#old-string-formatting"
   ]
  },
  {
   "cell_type": "markdown",
   "id": "5fb6faca",
   "metadata": {
    "slideshow": {
     "slide_type": "slide"
    }
   },
   "source": [
    "## Formatting using `.format()` method\n",
    "\n",
    "Another way to format is using the `.format()` method from the String class. The syntax is:\n",
    "\n",
    "    'Course number is {} and name is {}'.format('CS6420','Applied Programming')\n",
    "\n",
    "As an example:"
   ]
  },
  {
   "cell_type": "code",
   "execution_count": 6,
   "id": "3719e662",
   "metadata": {
    "slideshow": {
     "slide_type": "fragment"
    }
   },
   "outputs": [
    {
     "name": "stdout",
     "output_type": "stream",
     "text": [
      "Course number is CS6420 and name is Applied Programming\n"
     ]
    }
   ],
   "source": [
    "print ('Course number is {} and name is {}'.format('CS6420','Applied Programming')\n",
    ")"
   ]
  },
  {
   "cell_type": "markdown",
   "id": "4613d6ac",
   "metadata": {
    "slideshow": {
     "slide_type": "fragment"
    }
   },
   "source": [
    "### `.format()` method has more flexibility than the placeholder method.\n",
    "\n",
    "#### Objects can be called by index position.\n",
    "\n",
    "\n"
   ]
  },
  {
   "cell_type": "code",
   "execution_count": 3,
   "id": "f58f34d8",
   "metadata": {
    "slideshow": {
     "slide_type": "fragment"
    }
   },
   "outputs": [
    {
     "name": "stdout",
     "output_type": "stream",
     "text": [
      "Course number is CS6420 and name is Applied Programming\n"
     ]
    }
   ],
   "source": [
    "print ('Course number is {1} and name is {0}'.format('Applied Programming','CS6420')\n",
    ")"
   ]
  },
  {
   "cell_type": "markdown",
   "id": "853d3e64",
   "metadata": {
    "slideshow": {
     "slide_type": "fragment"
    }
   },
   "source": [
    "#### You can assign keywords to objects"
   ]
  },
  {
   "cell_type": "code",
   "execution_count": 8,
   "id": "b82b5fdf",
   "metadata": {
    "slideshow": {
     "slide_type": "fragment"
    }
   },
   "outputs": [
    {
     "name": "stdout",
     "output_type": "stream",
     "text": [
      "Course number is CS6420 and name is Applied Programming\n"
     ]
    }
   ],
   "source": [
    "print ('Course number is {number} and name is {name}'.format(name='Applied Programming',number='CS6420')\n",
    ")"
   ]
  },
  {
   "cell_type": "markdown",
   "id": "b227a794",
   "metadata": {
    "slideshow": {
     "slide_type": "fragment"
    }
   },
   "source": [
    "This allows you to replicate objects."
   ]
  },
  {
   "cell_type": "code",
   "execution_count": 84,
   "id": "8cd04ea2",
   "metadata": {
    "slideshow": {
     "slide_type": "fragment"
    }
   },
   "outputs": [
    {
     "name": "stdout",
     "output_type": "stream",
     "text": [
      "Course number is CS6420 and name is Applied Programming. The course Applied Programming is all about programming to implement large scale projects.\n"
     ]
    }
   ],
   "source": [
    "print ('Course number is {number} and name is {name}. The course {name} is all about programming to implement large scale projects.'.format(name='Applied Programming',number='CS6420'))\n"
   ]
  },
  {
   "cell_type": "markdown",
   "id": "50bd5039",
   "metadata": {
    "slideshow": {
     "slide_type": "slide"
    }
   },
   "source": [
    "### Using `.format()` method to align, pad and precision\n",
    "\n",
    "Using curly braces, field lengths, alignments, rounding can be incorporated.\n",
    "\n",
    "#### Field Lengths"
   ]
  },
  {
   "cell_type": "code",
   "execution_count": 9,
   "id": "d612a4da",
   "metadata": {
    "slideshow": {
     "slide_type": "fragment"
    }
   },
   "outputs": [
    {
     "name": "stdout",
     "output_type": "stream",
     "text": [
      "Student Name |Quiz Score\n"
     ]
    }
   ],
   "source": [
    "print('{0:10} |{1:10}'.format('Student Name','Quiz Score'))"
   ]
  },
  {
   "cell_type": "code",
   "execution_count": 86,
   "id": "df8fc57e",
   "metadata": {
    "slideshow": {
     "slide_type": "fragment"
    }
   },
   "outputs": [
    {
     "name": "stdout",
     "output_type": "stream",
     "text": [
      "Student Name                   |Quiz Score\n"
     ]
    }
   ],
   "source": [
    "print('{0:30} |{1:10}'.format('Student Name','Quiz Score'))"
   ]
  },
  {
   "cell_type": "markdown",
   "id": "467f0354",
   "metadata": {
    "slideshow": {
     "slide_type": "fragment"
    }
   },
   "source": [
    "The first element in the braces is the index to identify which object to pick (**optional**). The second one assigns the width of the field."
   ]
  },
  {
   "cell_type": "markdown",
   "id": "f1a22fb7",
   "metadata": {
    "slideshow": {
     "slide_type": "slide"
    }
   },
   "source": [
    "#### Alignment\n",
    "\n",
    "You can change the alignment by using <,^,> for left, center and right alignment respectively."
   ]
  },
  {
   "cell_type": "code",
   "execution_count": 9,
   "id": "bc8480a0",
   "metadata": {
    "slideshow": {
     "slide_type": "fragment"
    }
   },
   "outputs": [
    {
     "name": "stdout",
     "output_type": "stream",
     "text": [
      "Student Name    |     Quiz Score\n",
      " Student Name   |  Quiz Score   \n"
     ]
    }
   ],
   "source": [
    "print('{0:15} |{1:>15}'.format('Student Name','Quiz Score'))\n",
    "\n",
    "print('{0:^15} |{1:^15}'.format('Student Name','Quiz Score'))"
   ]
  },
  {
   "cell_type": "markdown",
   "id": "551a8266",
   "metadata": {
    "slideshow": {
     "slide_type": "fragment"
    }
   },
   "source": [
    "You can also add some character for padding"
   ]
  },
  {
   "cell_type": "code",
   "execution_count": 88,
   "id": "9d0cc488",
   "metadata": {
    "slideshow": {
     "slide_type": "fragment"
    }
   },
   "outputs": [
    {
     "name": "stdout",
     "output_type": "stream",
     "text": [
      "Student Name=== |=====Quiz Score\n",
      ".Student Name.. |..Quiz Score...\n"
     ]
    }
   ],
   "source": [
    "print('{0:=<15} |{1:=>15}'.format('Student Name','Quiz Score'))\n",
    "\n",
    "print('{0:.^15} |{1:.^15}'.format('Student Name','Quiz Score'))"
   ]
  },
  {
   "cell_type": "markdown",
   "id": "90357e58",
   "metadata": {
    "slideshow": {
     "slide_type": "slide"
    }
   },
   "source": [
    "#### Precision\n",
    "\n",
    "Precision is done similar to placeholder method."
   ]
  },
  {
   "cell_type": "code",
   "execution_count": 89,
   "id": "dd75b85c",
   "metadata": {
    "slideshow": {
     "slide_type": "fragment"
    }
   },
   "outputs": [
    {
     "name": "stdout",
     "output_type": "stream",
     "text": [
      "The strawberry is priced at 750 per kilo today. That means   21.26212 per ounce.\n"
     ]
    }
   ],
   "source": [
    "print('The strawberry is priced at {0} per kilo today. That means {1:10.5f} per ounce.'.format(750, 750/35.274))"
   ]
  },
  {
   "cell_type": "markdown",
   "id": "3181c79e",
   "metadata": {
    "slideshow": {
     "slide_type": "fragment"
    }
   },
   "source": [
    "There are 3 white spaces before 21, out of 10 minimum digits required by the formatting."
   ]
  },
  {
   "cell_type": "markdown",
   "id": "b704dd59",
   "metadata": {
    "slideshow": {
     "slide_type": "fragment"
    }
   },
   "source": [
    "You can get more information on this `.format()` method at\n",
    "https://docs.python.org/3/library/string.html#formatstrings"
   ]
  },
  {
   "cell_type": "markdown",
   "id": "627fb859",
   "metadata": {
    "slideshow": {
     "slide_type": "slide"
    }
   },
   "source": [
    "## Formatting using String Literals (f-strings)\n",
    "\n",
    "Another method for formatting is using String literals. Introduced in Python 3.6, this offer some benefits over other methods.\n"
   ]
  },
  {
   "cell_type": "code",
   "execution_count": 90,
   "id": "bf9cefcd",
   "metadata": {
    "slideshow": {
     "slide_type": "fragment"
    }
   },
   "outputs": [
    {
     "name": "stdout",
     "output_type": "stream",
     "text": [
      "So, your name was John\n"
     ]
    }
   ],
   "source": [
    "print(f\"So, your name was {from_user}\")"
   ]
  },
  {
   "cell_type": "markdown",
   "id": "9336e036",
   "metadata": {
    "slideshow": {
     "slide_type": "fragment"
    }
   },
   "source": [
    "For literal string representation, (similar to %r), you can use !r"
   ]
  },
  {
   "cell_type": "code",
   "execution_count": 91,
   "id": "348ab943",
   "metadata": {
    "slideshow": {
     "slide_type": "fragment"
    }
   },
   "outputs": [
    {
     "name": "stdout",
     "output_type": "stream",
     "text": [
      "So, your name was 'John'\n"
     ]
    }
   ],
   "source": [
    "print(f\"So, your name was {from_user!r}\")"
   ]
  },
  {
   "cell_type": "markdown",
   "id": "7dc671b9",
   "metadata": {
    "slideshow": {
     "slide_type": "fragment"
    }
   },
   "source": [
    "For floats, the following syntax can be used for formatting to control precision and number of digits.\n",
    "\n",
    "   **result:{value:{width}.{precision}}**"
   ]
  },
  {
   "cell_type": "code",
   "execution_count": 10,
   "id": "708a368b",
   "metadata": {
    "slideshow": {
     "slide_type": "fragment"
    }
   },
   "outputs": [
    {
     "name": "stdout",
     "output_type": "stream",
     "text": [
      "The strawberry is priced at 750 per kilo today. That means   21.26212 per ounce.\n"
     ]
    }
   ],
   "source": [
    "print(f'The strawberry is priced at 750 per kilo today. That means {750/35.274:{10}.{7}} per ounce.')"
   ]
  },
  {
   "cell_type": "markdown",
   "id": "24d13267",
   "metadata": {
    "slideshow": {
     "slide_type": "fragment"
    }
   },
   "source": [
    "Here *precision* refers to total number of digits, not just after decimal."
   ]
  },
  {
   "cell_type": "code",
   "execution_count": 93,
   "id": "6717cd3e",
   "metadata": {
    "slideshow": {
     "slide_type": "fragment"
    }
   },
   "outputs": [
    {
     "name": "stdout",
     "output_type": "stream",
     "text": [
      "The strawberry is priced at 750 per kilo today. That means    21.26 per ounce.\n"
     ]
    }
   ],
   "source": [
    "print(f'The strawberry is priced at 750 per kilo today. That means {750/35.274:{8}.{4}} per ounce.')"
   ]
  },
  {
   "cell_type": "markdown",
   "id": "10857959",
   "metadata": {
    "slideshow": {
     "slide_type": "slide"
    }
   },
   "source": [
    "However, f-string method does not allow adding following zeros after decimal.\n",
    "\n",
    "But you can use the syntax of `.format()` method with the *f-string* to achieve that."
   ]
  },
  {
   "cell_type": "code",
   "execution_count": 94,
   "id": "bf6079a4",
   "metadata": {
    "slideshow": {
     "slide_type": "fragment"
    }
   },
   "outputs": [
    {
     "name": "stdout",
     "output_type": "stream",
     "text": [
      "The strawberry is priced at 240.25 per kilo today.\n",
      "The strawberry is priced at 240.250 per kilo today.\n"
     ]
    }
   ],
   "source": [
    "price = 240.25\n",
    "print(f'The strawberry is priced at {price:{5}.{6}} per kilo today.')\n",
    "print(f'The strawberry is priced at {price:5.3f} per kilo today.')"
   ]
  },
  {
   "cell_type": "markdown",
   "id": "cbf9d508",
   "metadata": {
    "slideshow": {
     "slide_type": "fragment"
    }
   },
   "source": [
    "You can get more information on this string literals method at:\n",
    "https://docs.python.org/3/reference/lexical_analysis.html#f-strings"
   ]
  }
 ],
 "metadata": {
  "celltoolbar": "Slideshow",
  "kernelspec": {
   "display_name": "Python 3 (ipykernel)",
   "language": "python",
   "name": "python3"
  },
  "language_info": {
   "codemirror_mode": {
    "name": "ipython",
    "version": 3
   },
   "file_extension": ".py",
   "mimetype": "text/x-python",
   "name": "python",
   "nbconvert_exporter": "python",
   "pygments_lexer": "ipython3",
   "version": "3.9.7"
  },
  "latex_envs": {
   "LaTeX_envs_menu_present": true,
   "autoclose": false,
   "autocomplete": true,
   "bibliofile": "biblio.bib",
   "cite_by": "apalike",
   "current_citInitial": 1,
   "eqLabelWithNumbers": true,
   "eqNumInitial": 1,
   "hotkeys": {
    "equation": "Ctrl-E",
    "itemize": "Ctrl-I"
   },
   "labels_anchors": false,
   "latex_user_defs": false,
   "report_style_numbering": false,
   "user_envs_cfg": false
  },
  "toc": {
   "base_numbering": 1,
   "nav_menu": {},
   "number_sections": false,
   "sideBar": true,
   "skip_h1_title": false,
   "title_cell": "Table of Contents",
   "title_sidebar": "Contents",
   "toc_cell": false,
   "toc_position": {},
   "toc_section_display": true,
   "toc_window_display": false
  }
 },
 "nbformat": 4,
 "nbformat_minor": 5
}
