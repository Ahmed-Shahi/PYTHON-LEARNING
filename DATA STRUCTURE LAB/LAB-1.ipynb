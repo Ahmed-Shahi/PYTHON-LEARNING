{
 "cells": [
  {
   "cell_type": "markdown",
   "id": "d97993eb-cf20-492f-ab72-901fdc691054",
   "metadata": {},
   "source": [
    "TYPE():"
   ]
  },
  {
   "cell_type": "code",
   "execution_count": 2,
   "id": "ca9ebddf-35e0-4da6-a803-3ef4ffe18d8b",
   "metadata": {},
   "outputs": [
    {
     "name": "stdout",
     "output_type": "stream",
     "text": [
      "3\n",
      "<class 'int'>\n",
      "<class 'int'>\n",
      "2\n"
     ]
    }
   ],
   "source": [
    "a = 11\n",
    "b = 3\n",
    "a2 = a // b # '//' its change the data type float to int\n",
    "print(a2)\n",
    "print(type(a2))\n",
    "print(type(a))\n",
    "a3 = a%b\n",
    "print(a3)"
   ]
  },
  {
   "cell_type": "markdown",
   "id": "77726c97-ed84-4cf1-876f-8c1a3718eb9f",
   "metadata": {},
   "source": [
    "TYPE-CASTING:"
   ]
  },
  {
   "cell_type": "code",
   "execution_count": 1,
   "id": "1a9ac6a1-d19b-4971-8dc9-7c5e1961641c",
   "metadata": {},
   "outputs": [
    {
     "name": "stdin",
     "output_type": "stream",
     "text": [
      "How old are you?  20\n"
     ]
    },
    {
     "name": "stdout",
     "output_type": "stream",
     "text": [
      "Your Age Is: 20\n",
      "<class 'int'>\n"
     ]
    }
   ],
   "source": [
    "age = int(input (\"How old are you? \"))\n",
    "print(f'Your Age Is: {age}')\n",
    "print(type(age))"
   ]
  },
  {
   "cell_type": "code",
   "execution_count": 2,
   "id": "d8db33b9-814d-4bd7-b74f-e6528cb875d8",
   "metadata": {},
   "outputs": [],
   "source": [
    "#data types\n",
    "\n",
    "x = 10        # Integer\n",
    "y = 20.5      # Float\n",
    "name = \"Alice\"  # String\n",
    "is_student = True  # Boolean\n"
   ]
  },
  {
   "cell_type": "code",
   "execution_count": 5,
   "id": "b940ea7b-cf30-49e9-b4cc-bb144373447e",
   "metadata": {},
   "outputs": [
    {
     "name": "stdout",
     "output_type": "stream",
     "text": [
      "Addition: 19\n",
      "Subtraction: 11\n",
      "Multiplication: 60\n",
      "Division: 3.75\n",
      "Floor Division: 3\n",
      "Modulus: 3\n"
     ]
    }
   ],
   "source": [
    "a = 15\n",
    "b = 4\n",
    "print(\"Addition:\", a + b)       \n",
    "print(\"Subtraction:\", a - b)    \n",
    "print(\"Multiplication:\", a * b) \n",
    "print(\"Division:\", a / b)       \n",
    "print(\"Floor Division:\", a // b)\n",
    "print(\"Modulus:\", a % b)        \n"
   ]
  },
  {
   "cell_type": "code",
   "execution_count": null,
   "id": "34ef86ef-54d6-449f-8163-4a6fe8fa5c15",
   "metadata": {},
   "outputs": [],
   "source": []
  }
 ],
 "metadata": {
  "kernelspec": {
   "display_name": "Python 3 (ipykernel)",
   "language": "python",
   "name": "python3"
  },
  "language_info": {
   "codemirror_mode": {
    "name": "ipython",
    "version": 3
   },
   "file_extension": ".py",
   "mimetype": "text/x-python",
   "name": "python",
   "nbconvert_exporter": "python",
   "pygments_lexer": "ipython3",
   "version": "3.12.6"
  }
 },
 "nbformat": 4,
 "nbformat_minor": 5
}
