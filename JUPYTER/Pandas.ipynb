{
 "cells": [
  {
   "cell_type": "code",
   "execution_count": 2,
   "id": "78d47360-8397-4154-ba2b-e2fedb7163d4",
   "metadata": {
    "scrolled": true
   },
   "outputs": [],
   "source": [
    "import pandas as pd\n",
    "import numpy as np"
   ]
  },
  {
   "cell_type": "code",
   "execution_count": 3,
   "id": "5281a50b-2c4e-47fe-b75c-1e29f9c63260",
   "metadata": {},
   "outputs": [
    {
     "name": "stdout",
     "output_type": "stream",
     "text": [
      "['Ahmed', 'Ali', 'Moiz']\n"
     ]
    }
   ],
   "source": [
    "a = [\"Ahmed\",\"Ali\",\"Moiz\"]\n",
    "print(a)"
   ]
  },
  {
   "cell_type": "code",
   "execution_count": 6,
   "id": "1e268996-1ce0-4e2a-b987-aecba93a3d17",
   "metadata": {},
   "outputs": [
    {
     "name": "stdout",
     "output_type": "stream",
     "text": [
      "110    Ahmed\n",
      "120      Ali\n",
      "130     Moiz\n",
      "dtype: object\n"
     ]
    }
   ],
   "source": [
    "s = pd.Series(a,index = [110,120,130])\n",
    "print(s)"
   ]
  },
  {
   "cell_type": "code",
   "execution_count": 18,
   "id": "3b2c47d5-531c-4fdb-b991-94818d338257",
   "metadata": {},
   "outputs": [
    {
     "name": "stdout",
     "output_type": "stream",
     "text": [
      "[[12 34]\n",
      " [34 45]]\n"
     ]
    }
   ],
   "source": [
    "m = np.matrix([[12,34],[34,45]])\n",
    "print(m)"
   ]
  },
  {
   "cell_type": "code",
   "execution_count": 21,
   "id": "6ca9769d-807d-440d-b9a2-754cd978d316",
   "metadata": {},
   "outputs": [
    {
     "name": "stdout",
     "output_type": "stream",
     "text": [
      "Array of random numbers: [1 3 5 6 7 8]\n",
      "Maximum number: 8\n",
      "Average of numbers: 5.0\n"
     ]
    }
   ],
   "source": [
    "random_numbers = np.array([1,3,5,6,7,8])\n",
    "max_number = np.max(random_numbers)\n",
    "average_number = np.mean(random_numbers)\n",
    "print(\"Array of random numbers:\", random_numbers)\n",
    "print(\"Maximum number:\", max_number)\n",
    "print(\"Average of numbers:\", average_number)"
   ]
  },
  {
   "cell_type": "code",
   "execution_count": 9,
   "id": "876e2b87-bd1c-4680-a931-b37d7149004c",
   "metadata": {},
   "outputs": [
    {
     "name": "stdin",
     "output_type": "stream",
     "text": [
      "Enter The Number of Values to Be Store in Array:  6\n",
      "Enter The value 1:  1\n",
      "Enter The value 2:  2\n",
      "Enter The value 3:  3\n",
      "Enter The value 4:  4\n",
      "Enter The value 5:  5\n",
      "Enter The value 6:  6\n"
     ]
    },
    {
     "name": "stdout",
     "output_type": "stream",
     "text": [
      "1\n",
      "2\n",
      "3\n",
      "4\n",
      "5\n",
      "6\n",
      "3.5\n"
     ]
    }
   ],
   "source": [
    "# TAKE INPUT FROM USER, PUTS THE VALUES IN A LIST THEN PRINT THE LIST, IN THE END CALCULATE THE AVERAGE OF THE LIST\n",
    "\n",
    "numArr = int(input(\"Enter The Number of Values to Be Store in Array: \"))\n",
    "arr = []\n",
    "for i in range( 1,numArr+1,1):\n",
    "    value = int(input(f\"Enter The value {i}: \"))\n",
    "    arr.append(value)\n",
    "\n",
    "mean = np.mean(arr)\n",
    "for i in arr:\n",
    "    print(i)\n",
    "\n",
    "print(mean)\n",
    "    "
   ]
  },
  {
   "cell_type": "code",
   "execution_count": null,
   "id": "d32320e7-83ba-45fc-a147-32de314b0ec3",
   "metadata": {},
   "outputs": [],
   "source": []
  }
 ],
 "metadata": {
  "kernelspec": {
   "display_name": "Python 3 (ipykernel)",
   "language": "python",
   "name": "python3"
  },
  "language_info": {
   "codemirror_mode": {
    "name": "ipython",
    "version": 3
   },
   "file_extension": ".py",
   "mimetype": "text/x-python",
   "name": "python",
   "nbconvert_exporter": "python",
   "pygments_lexer": "ipython3",
   "version": "3.12.6"
  }
 },
 "nbformat": 4,
 "nbformat_minor": 5
}
